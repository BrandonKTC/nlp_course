{
 "cells": [
  {
   "cell_type": "markdown",
   "id": "da1940e6",
   "metadata": {},
   "source": [
    "# Keras Basics\n"
   ]
  },
  {
   "cell_type": "markdown",
   "id": "1c3cd2a2",
   "metadata": {},
   "source": [
    "## Dataset\n",
    "\n",
    "We will use the famous Iris Data set.\n",
    "_____\n",
    "More info on the data set:\n",
    "https://en.wikipedia.org/wiki/Iris_flower_data_set\n",
    "\n",
    "## Reading in the Data Set\n",
    "\n",
    "We've already downloaded the dataset, its in this folder. So let's open it up. "
   ]
  },
  {
   "cell_type": "code",
   "execution_count": 1,
   "id": "b0133fe1",
   "metadata": {},
   "outputs": [],
   "source": [
    "import numpy as np"
   ]
  },
  {
   "cell_type": "code",
   "execution_count": 2,
   "id": "d15ae122",
   "metadata": {},
   "outputs": [],
   "source": [
    "from sklearn.datasets import load_iris"
   ]
  },
  {
   "cell_type": "code",
   "execution_count": 3,
   "id": "5ae6cb11",
   "metadata": {},
   "outputs": [
    {
     "name": "stdout",
     "output_type": "stream",
     "text": [
      ".. _iris_dataset:\n",
      "\n",
      "Iris plants dataset\n",
      "--------------------\n",
      "\n",
      "**Data Set Characteristics:**\n",
      "\n",
      "    :Number of Instances: 150 (50 in each of three classes)\n",
      "    :Number of Attributes: 4 numeric, predictive attributes and the class\n",
      "    :Attribute Information:\n",
      "        - sepal length in cm\n",
      "        - sepal width in cm\n",
      "        - petal length in cm\n",
      "        - petal width in cm\n",
      "        - class:\n",
      "                - Iris-Setosa\n",
      "                - Iris-Versicolour\n",
      "                - Iris-Virginica\n",
      "                \n",
      "    :Summary Statistics:\n",
      "\n",
      "    ============== ==== ==== ======= ===== ====================\n",
      "                    Min  Max   Mean    SD   Class Correlation\n",
      "    ============== ==== ==== ======= ===== ====================\n",
      "    sepal length:   4.3  7.9   5.84   0.83    0.7826\n",
      "    sepal width:    2.0  4.4   3.05   0.43   -0.4194\n",
      "    petal length:   1.0  6.9   3.76   1.76    0.9490  (high!)\n",
      "    petal width:    0.1  2.5   1.20   0.76    0.9565  (high!)\n",
      "    ============== ==== ==== ======= ===== ====================\n",
      "\n",
      "    :Missing Attribute Values: None\n",
      "    :Class Distribution: 33.3% for each of 3 classes.\n",
      "    :Creator: R.A. Fisher\n",
      "    :Donor: Michael Marshall (MARSHALL%PLU@io.arc.nasa.gov)\n",
      "    :Date: July, 1988\n",
      "\n",
      "The famous Iris database, first used by Sir R.A. Fisher. The dataset is taken\n",
      "from Fisher's paper. Note that it's the same as in R, but not as in the UCI\n",
      "Machine Learning Repository, which has two wrong data points.\n",
      "\n",
      "This is perhaps the best known database to be found in the\n",
      "pattern recognition literature.  Fisher's paper is a classic in the field and\n",
      "is referenced frequently to this day.  (See Duda & Hart, for example.)  The\n",
      "data set contains 3 classes of 50 instances each, where each class refers to a\n",
      "type of iris plant.  One class is linearly separable from the other 2; the\n",
      "latter are NOT linearly separable from each other.\n",
      "\n",
      ".. topic:: References\n",
      "\n",
      "   - Fisher, R.A. \"The use of multiple measurements in taxonomic problems\"\n",
      "     Annual Eugenics, 7, Part II, 179-188 (1936); also in \"Contributions to\n",
      "     Mathematical Statistics\" (John Wiley, NY, 1950).\n",
      "   - Duda, R.O., & Hart, P.E. (1973) Pattern Classification and Scene Analysis.\n",
      "     (Q327.D83) John Wiley & Sons.  ISBN 0-471-22361-1.  See page 218.\n",
      "   - Dasarathy, B.V. (1980) \"Nosing Around the Neighborhood: A New System\n",
      "     Structure and Classification Rule for Recognition in Partially Exposed\n",
      "     Environments\".  IEEE Transactions on Pattern Analysis and Machine\n",
      "     Intelligence, Vol. PAMI-2, No. 1, 67-71.\n",
      "   - Gates, G.W. (1972) \"The Reduced Nearest Neighbor Rule\".  IEEE Transactions\n",
      "     on Information Theory, May 1972, 431-433.\n",
      "   - See also: 1988 MLC Proceedings, 54-64.  Cheeseman et al\"s AUTOCLASS II\n",
      "     conceptual clustering system finds 3 classes in the data.\n",
      "   - Many, many more ...\n"
     ]
    }
   ],
   "source": [
    "iris = load_iris()\n",
    "print(iris.DESCR)"
   ]
  },
  {
   "cell_type": "code",
   "execution_count": 4,
   "id": "b852670f",
   "metadata": {},
   "outputs": [
    {
     "data": {
      "text/plain": [
       "array([[5.1, 3.5, 1.4, 0.2],\n",
       "       [4.9, 3. , 1.4, 0.2],\n",
       "       [4.7, 3.2, 1.3, 0.2],\n",
       "       [4.6, 3.1, 1.5, 0.2],\n",
       "       [5. , 3.6, 1.4, 0.2]])"
      ]
     },
     "execution_count": 4,
     "metadata": {},
     "output_type": "execute_result"
    }
   ],
   "source": [
    "X = iris.data\n",
    "X[:5]"
   ]
  },
  {
   "cell_type": "code",
   "execution_count": 5,
   "id": "d17ec801",
   "metadata": {},
   "outputs": [
    {
     "data": {
      "text/plain": [
       "array([0, 0, 0, 0, 0, 0, 0, 0, 0, 0, 0, 0, 0, 0, 0, 0, 0, 0, 0, 0, 0, 0,\n",
       "       0, 0, 0, 0, 0, 0, 0, 0, 0, 0, 0, 0, 0, 0, 0, 0, 0, 0, 0, 0, 0, 0,\n",
       "       0, 0, 0, 0, 0, 0, 1, 1, 1, 1, 1, 1, 1, 1, 1, 1, 1, 1, 1, 1, 1, 1,\n",
       "       1, 1, 1, 1, 1, 1, 1, 1, 1, 1, 1, 1, 1, 1, 1, 1, 1, 1, 1, 1, 1, 1,\n",
       "       1, 1, 1, 1, 1, 1, 1, 1, 1, 1, 1, 1, 2, 2, 2, 2, 2, 2, 2, 2, 2, 2,\n",
       "       2, 2, 2, 2, 2, 2, 2, 2, 2, 2, 2, 2, 2, 2, 2, 2, 2, 2, 2, 2, 2, 2,\n",
       "       2, 2, 2, 2, 2, 2, 2, 2, 2, 2, 2, 2, 2, 2, 2, 2, 2, 2])"
      ]
     },
     "execution_count": 5,
     "metadata": {},
     "output_type": "execute_result"
    }
   ],
   "source": [
    "y = iris.target\n",
    "y"
   ]
  },
  {
   "cell_type": "code",
   "execution_count": 6,
   "id": "6002a06a",
   "metadata": {},
   "outputs": [],
   "source": [
    "# class 0 --> [1,0,0]\n",
    "# class 1 --> [0,1,0]\n",
    "# class 2 --> [0,0,1]"
   ]
  },
  {
   "cell_type": "code",
   "execution_count": 7,
   "id": "9740b9e2",
   "metadata": {},
   "outputs": [],
   "source": [
    "from tensorflow.keras.utils import to_categorical"
   ]
  },
  {
   "cell_type": "code",
   "execution_count": 8,
   "id": "73c49446",
   "metadata": {},
   "outputs": [
    {
     "data": {
      "text/plain": [
       "(150, 3)"
      ]
     },
     "execution_count": 8,
     "metadata": {},
     "output_type": "execute_result"
    }
   ],
   "source": [
    "y = to_categorical(y)\n",
    "y.shape"
   ]
  },
  {
   "cell_type": "markdown",
   "id": "954c05d8",
   "metadata": {},
   "source": [
    "## Split the Data into Training and Test\n",
    "\n",
    "Its time to split the data into a train/test set. Keep in mind, sometimes people like to split 3 ways, train/test/validation. We'll keep things simple for now. **Remember to check out the video explanation as to why we split and what all the parameters mean!**"
   ]
  },
  {
   "cell_type": "code",
   "execution_count": 9,
   "id": "64127f52",
   "metadata": {},
   "outputs": [],
   "source": [
    "from sklearn.model_selection import train_test_split\n",
    "\n",
    "X_train, X_test, y_train, y_test = train_test_split(X,y, test_size=.33, random_state=42)"
   ]
  },
  {
   "cell_type": "markdown",
   "id": "a09170fa",
   "metadata": {},
   "source": [
    "## Standardizing the Data\n",
    "\n",
    "Usually when using Neural Networks, you will get better performance when you standardize the data. Standardization just means normalizing the values to all fit between a certain range, like 0-1, or -1 to 1.\n",
    "\n",
    "The scikit learn library also provides a nice function for this.\n",
    "\n",
    "http://scikit-learn.org/stable/modules/generated/sklearn.preprocessing.MinMaxScaler.html"
   ]
  },
  {
   "cell_type": "code",
   "execution_count": 10,
   "id": "c8a99987",
   "metadata": {},
   "outputs": [],
   "source": [
    "from sklearn.preprocessing import MinMaxScaler"
   ]
  },
  {
   "cell_type": "code",
   "execution_count": 11,
   "id": "27472208",
   "metadata": {},
   "outputs": [
    {
     "data": {
      "text/html": [
       "<style>#sk-container-id-1 {color: black;}#sk-container-id-1 pre{padding: 0;}#sk-container-id-1 div.sk-toggleable {background-color: white;}#sk-container-id-1 label.sk-toggleable__label {cursor: pointer;display: block;width: 100%;margin-bottom: 0;padding: 0.3em;box-sizing: border-box;text-align: center;}#sk-container-id-1 label.sk-toggleable__label-arrow:before {content: \"▸\";float: left;margin-right: 0.25em;color: #696969;}#sk-container-id-1 label.sk-toggleable__label-arrow:hover:before {color: black;}#sk-container-id-1 div.sk-estimator:hover label.sk-toggleable__label-arrow:before {color: black;}#sk-container-id-1 div.sk-toggleable__content {max-height: 0;max-width: 0;overflow: hidden;text-align: left;background-color: #f0f8ff;}#sk-container-id-1 div.sk-toggleable__content pre {margin: 0.2em;color: black;border-radius: 0.25em;background-color: #f0f8ff;}#sk-container-id-1 input.sk-toggleable__control:checked~div.sk-toggleable__content {max-height: 200px;max-width: 100%;overflow: auto;}#sk-container-id-1 input.sk-toggleable__control:checked~label.sk-toggleable__label-arrow:before {content: \"▾\";}#sk-container-id-1 div.sk-estimator input.sk-toggleable__control:checked~label.sk-toggleable__label {background-color: #d4ebff;}#sk-container-id-1 div.sk-label input.sk-toggleable__control:checked~label.sk-toggleable__label {background-color: #d4ebff;}#sk-container-id-1 input.sk-hidden--visually {border: 0;clip: rect(1px 1px 1px 1px);clip: rect(1px, 1px, 1px, 1px);height: 1px;margin: -1px;overflow: hidden;padding: 0;position: absolute;width: 1px;}#sk-container-id-1 div.sk-estimator {font-family: monospace;background-color: #f0f8ff;border: 1px dotted black;border-radius: 0.25em;box-sizing: border-box;margin-bottom: 0.5em;}#sk-container-id-1 div.sk-estimator:hover {background-color: #d4ebff;}#sk-container-id-1 div.sk-parallel-item::after {content: \"\";width: 100%;border-bottom: 1px solid gray;flex-grow: 1;}#sk-container-id-1 div.sk-label:hover label.sk-toggleable__label {background-color: #d4ebff;}#sk-container-id-1 div.sk-serial::before {content: \"\";position: absolute;border-left: 1px solid gray;box-sizing: border-box;top: 0;bottom: 0;left: 50%;z-index: 0;}#sk-container-id-1 div.sk-serial {display: flex;flex-direction: column;align-items: center;background-color: white;padding-right: 0.2em;padding-left: 0.2em;position: relative;}#sk-container-id-1 div.sk-item {position: relative;z-index: 1;}#sk-container-id-1 div.sk-parallel {display: flex;align-items: stretch;justify-content: center;background-color: white;position: relative;}#sk-container-id-1 div.sk-item::before, #sk-container-id-1 div.sk-parallel-item::before {content: \"\";position: absolute;border-left: 1px solid gray;box-sizing: border-box;top: 0;bottom: 0;left: 50%;z-index: -1;}#sk-container-id-1 div.sk-parallel-item {display: flex;flex-direction: column;z-index: 1;position: relative;background-color: white;}#sk-container-id-1 div.sk-parallel-item:first-child::after {align-self: flex-end;width: 50%;}#sk-container-id-1 div.sk-parallel-item:last-child::after {align-self: flex-start;width: 50%;}#sk-container-id-1 div.sk-parallel-item:only-child::after {width: 0;}#sk-container-id-1 div.sk-dashed-wrapped {border: 1px dashed gray;margin: 0 0.4em 0.5em 0.4em;box-sizing: border-box;padding-bottom: 0.4em;background-color: white;}#sk-container-id-1 div.sk-label label {font-family: monospace;font-weight: bold;display: inline-block;line-height: 1.2em;}#sk-container-id-1 div.sk-label-container {text-align: center;}#sk-container-id-1 div.sk-container {/* jupyter's `normalize.less` sets `[hidden] { display: none; }` but bootstrap.min.css set `[hidden] { display: none !important; }` so we also need the `!important` here to be able to override the default hidden behavior on the sphinx rendered scikit-learn.org. See: https://github.com/scikit-learn/scikit-learn/issues/21755 */display: inline-block !important;position: relative;}#sk-container-id-1 div.sk-text-repr-fallback {display: none;}</style><div id=\"sk-container-id-1\" class=\"sk-top-container\"><div class=\"sk-text-repr-fallback\"><pre>MinMaxScaler()</pre><b>In a Jupyter environment, please rerun this cell to show the HTML representation or trust the notebook. <br />On GitHub, the HTML representation is unable to render, please try loading this page with nbviewer.org.</b></div><div class=\"sk-container\" hidden><div class=\"sk-item\"><div class=\"sk-estimator sk-toggleable\"><input class=\"sk-toggleable__control sk-hidden--visually\" id=\"sk-estimator-id-1\" type=\"checkbox\" checked><label for=\"sk-estimator-id-1\" class=\"sk-toggleable__label sk-toggleable__label-arrow\">MinMaxScaler</label><div class=\"sk-toggleable__content\"><pre>MinMaxScaler()</pre></div></div></div></div></div>"
      ],
      "text/plain": [
       "MinMaxScaler()"
      ]
     },
     "execution_count": 11,
     "metadata": {},
     "output_type": "execute_result"
    }
   ],
   "source": [
    "scaler_object = MinMaxScaler()\n",
    "\n",
    "scaler_object.fit(X_train)"
   ]
  },
  {
   "cell_type": "code",
   "execution_count": 12,
   "id": "c426c398",
   "metadata": {},
   "outputs": [],
   "source": [
    "scaled_X_train = scaler_object.transform(X_train)\n",
    "scaled_X_test = scaler_object.transform(X_test)"
   ]
  },
  {
   "cell_type": "markdown",
   "id": "3ef2c6cf",
   "metadata": {},
   "source": [
    "## Building the Network with Keras\n",
    "\n",
    "Let's build a simple neural network!"
   ]
  },
  {
   "cell_type": "code",
   "execution_count": 13,
   "id": "d1648d75",
   "metadata": {},
   "outputs": [],
   "source": [
    "from keras.models import Sequential\n",
    "from keras.layers import Dense"
   ]
  },
  {
   "cell_type": "code",
   "execution_count": 14,
   "id": "33830247",
   "metadata": {},
   "outputs": [],
   "source": [
    "model = Sequential()\n",
    "model.add(Dense(8,input_dim=4,activation='relu'))\n",
    "model.add(Dense(8,input_dim=4,activation='relu'))\n",
    "model.add(Dense(3,activation='softmax')) # [.2,.3,.5] returns the highest probability idx\n",
    "model.compile(loss='categorical_crossentropy',optimizer='adam',metrics=['accuracy'])"
   ]
  },
  {
   "cell_type": "code",
   "execution_count": 15,
   "id": "64e90ac8",
   "metadata": {},
   "outputs": [
    {
     "name": "stdout",
     "output_type": "stream",
     "text": [
      "Model: \"sequential\"\n",
      "_________________________________________________________________\n",
      " Layer (type)                Output Shape              Param #   \n",
      "=================================================================\n",
      " dense (Dense)               (None, 8)                 40        \n",
      "                                                                 \n",
      " dense_1 (Dense)             (None, 8)                 72        \n",
      "                                                                 \n",
      " dense_2 (Dense)             (None, 3)                 27        \n",
      "                                                                 \n",
      "=================================================================\n",
      "Total params: 139 (556.00 Byte)\n",
      "Trainable params: 139 (556.00 Byte)\n",
      "Non-trainable params: 0 (0.00 Byte)\n",
      "_________________________________________________________________\n"
     ]
    }
   ],
   "source": [
    "model.summary()"
   ]
  },
  {
   "cell_type": "markdown",
   "id": "62d5d313",
   "metadata": {},
   "source": [
    "## Fit (Train) the Model"
   ]
  },
  {
   "cell_type": "code",
   "execution_count": 16,
   "id": "1e7e3797",
   "metadata": {},
   "outputs": [
    {
     "name": "stdout",
     "output_type": "stream",
     "text": [
      "Epoch 1/150\n",
      "4/4 - 0s - loss: 1.1001 - accuracy: 0.3500 - 137ms/epoch - 34ms/step\n",
      "Epoch 2/150\n",
      "4/4 - 0s - loss: 1.0897 - accuracy: 0.3500 - 3ms/epoch - 631us/step\n",
      "Epoch 3/150\n",
      "4/4 - 0s - loss: 1.0799 - accuracy: 0.3400 - 2ms/epoch - 591us/step\n",
      "Epoch 4/150\n",
      "4/4 - 0s - loss: 1.0709 - accuracy: 0.3400 - 2ms/epoch - 575us/step\n",
      "Epoch 5/150\n",
      "4/4 - 0s - loss: 1.0618 - accuracy: 0.4000 - 2ms/epoch - 589us/step\n",
      "Epoch 6/150\n",
      "4/4 - 0s - loss: 1.0531 - accuracy: 0.4200 - 4ms/epoch - 892us/step\n",
      "Epoch 7/150\n",
      "4/4 - 0s - loss: 1.0450 - accuracy: 0.4700 - 3ms/epoch - 702us/step\n",
      "Epoch 8/150\n",
      "4/4 - 0s - loss: 1.0372 - accuracy: 0.5500 - 3ms/epoch - 659us/step\n",
      "Epoch 9/150\n",
      "4/4 - 0s - loss: 1.0295 - accuracy: 0.5900 - 3ms/epoch - 641us/step\n",
      "Epoch 10/150\n",
      "4/4 - 0s - loss: 1.0219 - accuracy: 0.6200 - 3ms/epoch - 678us/step\n",
      "Epoch 11/150\n",
      "4/4 - 0s - loss: 1.0150 - accuracy: 0.6200 - 3ms/epoch - 718us/step\n",
      "Epoch 12/150\n",
      "4/4 - 0s - loss: 1.0078 - accuracy: 0.6300 - 2ms/epoch - 615us/step\n",
      "Epoch 13/150\n",
      "4/4 - 0s - loss: 1.0010 - accuracy: 0.6700 - 2ms/epoch - 621us/step\n",
      "Epoch 14/150\n",
      "4/4 - 0s - loss: 0.9945 - accuracy: 0.7100 - 3ms/epoch - 627us/step\n",
      "Epoch 15/150\n",
      "4/4 - 0s - loss: 0.9880 - accuracy: 0.6800 - 3ms/epoch - 631us/step\n",
      "Epoch 16/150\n",
      "4/4 - 0s - loss: 0.9810 - accuracy: 0.6600 - 3ms/epoch - 666us/step\n",
      "Epoch 17/150\n",
      "4/4 - 0s - loss: 0.9743 - accuracy: 0.6600 - 3ms/epoch - 871us/step\n",
      "Epoch 18/150\n",
      "4/4 - 0s - loss: 0.9677 - accuracy: 0.6600 - 3ms/epoch - 629us/step\n",
      "Epoch 19/150\n",
      "4/4 - 0s - loss: 0.9608 - accuracy: 0.6600 - 2ms/epoch - 622us/step\n",
      "Epoch 20/150\n",
      "4/4 - 0s - loss: 0.9537 - accuracy: 0.6700 - 3ms/epoch - 735us/step\n",
      "Epoch 21/150\n",
      "4/4 - 0s - loss: 0.9464 - accuracy: 0.6700 - 3ms/epoch - 700us/step\n",
      "Epoch 22/150\n",
      "4/4 - 0s - loss: 0.9390 - accuracy: 0.6500 - 3ms/epoch - 629us/step\n",
      "Epoch 23/150\n",
      "4/4 - 0s - loss: 0.9308 - accuracy: 0.6500 - 2ms/epoch - 596us/step\n",
      "Epoch 24/150\n",
      "4/4 - 0s - loss: 0.9232 - accuracy: 0.6500 - 3ms/epoch - 635us/step\n",
      "Epoch 25/150\n",
      "4/4 - 0s - loss: 0.9152 - accuracy: 0.6500 - 3ms/epoch - 706us/step\n",
      "Epoch 26/150\n",
      "4/4 - 0s - loss: 0.9071 - accuracy: 0.6500 - 3ms/epoch - 789us/step\n",
      "Epoch 27/150\n",
      "4/4 - 0s - loss: 0.8988 - accuracy: 0.6500 - 3ms/epoch - 681us/step\n",
      "Epoch 28/150\n",
      "4/4 - 0s - loss: 0.8902 - accuracy: 0.6500 - 2ms/epoch - 597us/step\n",
      "Epoch 29/150\n",
      "4/4 - 0s - loss: 0.8815 - accuracy: 0.6500 - 2ms/epoch - 601us/step\n",
      "Epoch 30/150\n",
      "4/4 - 0s - loss: 0.8728 - accuracy: 0.6400 - 3ms/epoch - 644us/step\n",
      "Epoch 31/150\n",
      "4/4 - 0s - loss: 0.8641 - accuracy: 0.6400 - 3ms/epoch - 641us/step\n",
      "Epoch 32/150\n",
      "4/4 - 0s - loss: 0.8554 - accuracy: 0.6500 - 3ms/epoch - 746us/step\n",
      "Epoch 33/150\n",
      "4/4 - 0s - loss: 0.8465 - accuracy: 0.6500 - 3ms/epoch - 637us/step\n",
      "Epoch 34/150\n",
      "4/4 - 0s - loss: 0.8378 - accuracy: 0.6500 - 2ms/epoch - 593us/step\n",
      "Epoch 35/150\n",
      "4/4 - 0s - loss: 0.8287 - accuracy: 0.6500 - 2ms/epoch - 618us/step\n",
      "Epoch 36/150\n",
      "4/4 - 0s - loss: 0.8200 - accuracy: 0.6600 - 3ms/epoch - 684us/step\n",
      "Epoch 37/150\n",
      "4/4 - 0s - loss: 0.8110 - accuracy: 0.6600 - 3ms/epoch - 724us/step\n",
      "Epoch 38/150\n",
      "4/4 - 0s - loss: 0.8024 - accuracy: 0.6600 - 3ms/epoch - 655us/step\n",
      "Epoch 39/150\n",
      "4/4 - 0s - loss: 0.7938 - accuracy: 0.6600 - 2ms/epoch - 613us/step\n",
      "Epoch 40/150\n",
      "4/4 - 0s - loss: 0.7852 - accuracy: 0.6600 - 3ms/epoch - 631us/step\n",
      "Epoch 41/150\n",
      "4/4 - 0s - loss: 0.7761 - accuracy: 0.6500 - 2ms/epoch - 614us/step\n",
      "Epoch 42/150\n",
      "4/4 - 0s - loss: 0.7676 - accuracy: 0.6500 - 3ms/epoch - 775us/step\n",
      "Epoch 43/150\n",
      "4/4 - 0s - loss: 0.7584 - accuracy: 0.6500 - 3ms/epoch - 684us/step\n",
      "Epoch 44/150\n",
      "4/4 - 0s - loss: 0.7500 - accuracy: 0.6500 - 3ms/epoch - 625us/step\n",
      "Epoch 45/150\n",
      "4/4 - 0s - loss: 0.7415 - accuracy: 0.6500 - 2ms/epoch - 559us/step\n",
      "Epoch 46/150\n",
      "4/4 - 0s - loss: 0.7329 - accuracy: 0.6500 - 3ms/epoch - 673us/step\n",
      "Epoch 47/150\n",
      "4/4 - 0s - loss: 0.7248 - accuracy: 0.6500 - 3ms/epoch - 737us/step\n",
      "Epoch 48/150\n",
      "4/4 - 0s - loss: 0.7166 - accuracy: 0.6500 - 3ms/epoch - 648us/step\n",
      "Epoch 49/150\n",
      "4/4 - 0s - loss: 0.7087 - accuracy: 0.6500 - 3ms/epoch - 710us/step\n",
      "Epoch 50/150\n",
      "4/4 - 0s - loss: 0.7011 - accuracy: 0.6500 - 3ms/epoch - 633us/step\n",
      "Epoch 51/150\n",
      "4/4 - 0s - loss: 0.6935 - accuracy: 0.6500 - 2ms/epoch - 625us/step\n",
      "Epoch 52/150\n",
      "4/4 - 0s - loss: 0.6864 - accuracy: 0.6500 - 6ms/epoch - 1ms/step\n",
      "Epoch 53/150\n",
      "4/4 - 0s - loss: 0.6788 - accuracy: 0.6500 - 5ms/epoch - 1ms/step\n",
      "Epoch 54/150\n",
      "4/4 - 0s - loss: 0.6716 - accuracy: 0.6500 - 4ms/epoch - 1ms/step\n",
      "Epoch 55/150\n",
      "4/4 - 0s - loss: 0.6644 - accuracy: 0.6500 - 3ms/epoch - 720us/step\n",
      "Epoch 56/150\n",
      "4/4 - 0s - loss: 0.6572 - accuracy: 0.6500 - 3ms/epoch - 796us/step\n",
      "Epoch 57/150\n",
      "4/4 - 0s - loss: 0.6503 - accuracy: 0.6500 - 2ms/epoch - 606us/step\n",
      "Epoch 58/150\n",
      "4/4 - 0s - loss: 0.6432 - accuracy: 0.6500 - 2ms/epoch - 581us/step\n",
      "Epoch 59/150\n",
      "4/4 - 0s - loss: 0.6366 - accuracy: 0.6500 - 3ms/epoch - 730us/step\n",
      "Epoch 60/150\n",
      "4/4 - 0s - loss: 0.6301 - accuracy: 0.6600 - 2ms/epoch - 609us/step\n",
      "Epoch 61/150\n",
      "4/4 - 0s - loss: 0.6239 - accuracy: 0.6600 - 2ms/epoch - 573us/step\n",
      "Epoch 62/150\n",
      "4/4 - 0s - loss: 0.6175 - accuracy: 0.6600 - 2ms/epoch - 561us/step\n",
      "Epoch 63/150\n",
      "4/4 - 0s - loss: 0.6114 - accuracy: 0.6600 - 2ms/epoch - 537us/step\n",
      "Epoch 64/150\n",
      "4/4 - 0s - loss: 0.6056 - accuracy: 0.6600 - 2ms/epoch - 571us/step\n",
      "Epoch 65/150\n",
      "4/4 - 0s - loss: 0.6000 - accuracy: 0.6700 - 2ms/epoch - 614us/step\n",
      "Epoch 66/150\n",
      "4/4 - 0s - loss: 0.5946 - accuracy: 0.6800 - 3ms/epoch - 663us/step\n",
      "Epoch 67/150\n",
      "4/4 - 0s - loss: 0.5895 - accuracy: 0.7000 - 2ms/epoch - 571us/step\n",
      "Epoch 68/150\n",
      "4/4 - 0s - loss: 0.5845 - accuracy: 0.7400 - 2ms/epoch - 567us/step\n",
      "Epoch 69/150\n",
      "4/4 - 0s - loss: 0.5796 - accuracy: 0.7500 - 2ms/epoch - 572us/step\n",
      "Epoch 70/150\n",
      "4/4 - 0s - loss: 0.5747 - accuracy: 0.7700 - 2ms/epoch - 586us/step\n",
      "Epoch 71/150\n",
      "4/4 - 0s - loss: 0.5698 - accuracy: 0.7800 - 3ms/epoch - 722us/step\n",
      "Epoch 72/150\n",
      "4/4 - 0s - loss: 0.5650 - accuracy: 0.7800 - 2ms/epoch - 621us/step\n",
      "Epoch 73/150\n",
      "4/4 - 0s - loss: 0.5608 - accuracy: 0.7900 - 2ms/epoch - 583us/step\n",
      "Epoch 74/150\n",
      "4/4 - 0s - loss: 0.5563 - accuracy: 0.7900 - 2ms/epoch - 567us/step\n",
      "Epoch 75/150\n",
      "4/4 - 0s - loss: 0.5520 - accuracy: 0.7900 - 2ms/epoch - 579us/step\n",
      "Epoch 76/150\n",
      "4/4 - 0s - loss: 0.5480 - accuracy: 0.7900 - 3ms/epoch - 737us/step\n",
      "Epoch 77/150\n",
      "4/4 - 0s - loss: 0.5442 - accuracy: 0.8000 - 2ms/epoch - 592us/step\n",
      "Epoch 78/150\n",
      "4/4 - 0s - loss: 0.5403 - accuracy: 0.8100 - 3ms/epoch - 655us/step\n",
      "Epoch 79/150\n",
      "4/4 - 0s - loss: 0.5368 - accuracy: 0.8200 - 2ms/epoch - 553us/step\n",
      "Epoch 80/150\n",
      "4/4 - 0s - loss: 0.5334 - accuracy: 0.8400 - 2ms/epoch - 587us/step\n",
      "Epoch 81/150\n",
      "4/4 - 0s - loss: 0.5300 - accuracy: 0.8500 - 3ms/epoch - 702us/step\n",
      "Epoch 82/150\n",
      "4/4 - 0s - loss: 0.5264 - accuracy: 0.8500 - 3ms/epoch - 681us/step\n",
      "Epoch 83/150\n",
      "4/4 - 0s - loss: 0.5229 - accuracy: 0.8500 - 2ms/epoch - 568us/step\n",
      "Epoch 84/150\n",
      "4/4 - 0s - loss: 0.5193 - accuracy: 0.8500 - 2ms/epoch - 593us/step\n",
      "Epoch 85/150\n",
      "4/4 - 0s - loss: 0.5157 - accuracy: 0.8200 - 2ms/epoch - 571us/step\n",
      "Epoch 86/150\n",
      "4/4 - 0s - loss: 0.5126 - accuracy: 0.8100 - 2ms/epoch - 581us/step\n",
      "Epoch 87/150\n",
      "4/4 - 0s - loss: 0.5095 - accuracy: 0.8100 - 3ms/epoch - 627us/step\n",
      "Epoch 88/150\n",
      "4/4 - 0s - loss: 0.5065 - accuracy: 0.8100 - 3ms/epoch - 667us/step\n",
      "Epoch 89/150\n",
      "4/4 - 0s - loss: 0.5032 - accuracy: 0.8200 - 3ms/epoch - 651us/step\n",
      "Epoch 90/150\n",
      "4/4 - 0s - loss: 0.5002 - accuracy: 0.8300 - 2ms/epoch - 560us/step\n",
      "Epoch 91/150\n",
      "4/4 - 0s - loss: 0.4972 - accuracy: 0.8600 - 2ms/epoch - 554us/step\n",
      "Epoch 92/150\n",
      "4/4 - 0s - loss: 0.4941 - accuracy: 0.8600 - 2ms/epoch - 624us/step\n",
      "Epoch 93/150\n",
      "4/4 - 0s - loss: 0.4912 - accuracy: 0.8400 - 3ms/epoch - 713us/step\n",
      "Epoch 94/150\n",
      "4/4 - 0s - loss: 0.4882 - accuracy: 0.8200 - 2ms/epoch - 618us/step\n",
      "Epoch 95/150\n",
      "4/4 - 0s - loss: 0.4852 - accuracy: 0.8400 - 2ms/epoch - 582us/step\n",
      "Epoch 96/150\n",
      "4/4 - 0s - loss: 0.4822 - accuracy: 0.8500 - 2ms/epoch - 562us/step\n",
      "Epoch 97/150\n",
      "4/4 - 0s - loss: 0.4793 - accuracy: 0.8500 - 2ms/epoch - 601us/step\n",
      "Epoch 98/150\n",
      "4/4 - 0s - loss: 0.4767 - accuracy: 0.8600 - 2ms/epoch - 609us/step\n",
      "Epoch 99/150\n",
      "4/4 - 0s - loss: 0.4738 - accuracy: 0.8700 - 3ms/epoch - 709us/step\n",
      "Epoch 100/150\n",
      "4/4 - 0s - loss: 0.4708 - accuracy: 0.8700 - 2ms/epoch - 610us/step\n",
      "Epoch 101/150\n",
      "4/4 - 0s - loss: 0.4680 - accuracy: 0.8900 - 2ms/epoch - 594us/step\n",
      "Epoch 102/150\n",
      "4/4 - 0s - loss: 0.4658 - accuracy: 0.9000 - 2ms/epoch - 606us/step\n"
     ]
    },
    {
     "name": "stdout",
     "output_type": "stream",
     "text": [
      "Epoch 103/150\n",
      "4/4 - 0s - loss: 0.4627 - accuracy: 0.9100 - 2ms/epoch - 599us/step\n",
      "Epoch 104/150\n",
      "4/4 - 0s - loss: 0.4597 - accuracy: 0.9100 - 3ms/epoch - 738us/step\n",
      "Epoch 105/150\n",
      "4/4 - 0s - loss: 0.4566 - accuracy: 0.9000 - 2ms/epoch - 596us/step\n",
      "Epoch 106/150\n",
      "4/4 - 0s - loss: 0.4537 - accuracy: 0.8800 - 2ms/epoch - 582us/step\n",
      "Epoch 107/150\n",
      "4/4 - 0s - loss: 0.4510 - accuracy: 0.8800 - 2ms/epoch - 574us/step\n",
      "Epoch 108/150\n",
      "4/4 - 0s - loss: 0.4484 - accuracy: 0.9000 - 2ms/epoch - 567us/step\n",
      "Epoch 109/150\n",
      "4/4 - 0s - loss: 0.4458 - accuracy: 0.9100 - 3ms/epoch - 704us/step\n",
      "Epoch 110/150\n",
      "4/4 - 0s - loss: 0.4432 - accuracy: 0.9000 - 3ms/epoch - 636us/step\n",
      "Epoch 111/150\n",
      "4/4 - 0s - loss: 0.4405 - accuracy: 0.8800 - 2ms/epoch - 564us/step\n",
      "Epoch 112/150\n",
      "4/4 - 0s - loss: 0.4390 - accuracy: 0.8400 - 2ms/epoch - 519us/step\n",
      "Epoch 113/150\n",
      "4/4 - 0s - loss: 0.4371 - accuracy: 0.8300 - 2ms/epoch - 612us/step\n",
      "Epoch 114/150\n",
      "4/4 - 0s - loss: 0.4345 - accuracy: 0.8400 - 2ms/epoch - 594us/step\n",
      "Epoch 115/150\n",
      "4/4 - 0s - loss: 0.4314 - accuracy: 0.8600 - 3ms/epoch - 684us/step\n",
      "Epoch 116/150\n",
      "4/4 - 0s - loss: 0.4281 - accuracy: 0.8800 - 2ms/epoch - 561us/step\n",
      "Epoch 117/150\n",
      "4/4 - 0s - loss: 0.4255 - accuracy: 0.8800 - 2ms/epoch - 563us/step\n",
      "Epoch 118/150\n",
      "4/4 - 0s - loss: 0.4231 - accuracy: 0.8800 - 2ms/epoch - 522us/step\n",
      "Epoch 119/150\n",
      "4/4 - 0s - loss: 0.4200 - accuracy: 0.8900 - 2ms/epoch - 595us/step\n",
      "Epoch 120/150\n",
      "4/4 - 0s - loss: 0.4171 - accuracy: 0.9000 - 3ms/epoch - 652us/step\n",
      "Epoch 121/150\n",
      "4/4 - 0s - loss: 0.4145 - accuracy: 0.9100 - 3ms/epoch - 639us/step\n",
      "Epoch 122/150\n",
      "4/4 - 0s - loss: 0.4116 - accuracy: 0.9100 - 2ms/epoch - 554us/step\n",
      "Epoch 123/150\n",
      "4/4 - 0s - loss: 0.4094 - accuracy: 0.9000 - 2ms/epoch - 539us/step\n",
      "Epoch 124/150\n",
      "4/4 - 0s - loss: 0.4067 - accuracy: 0.8900 - 2ms/epoch - 521us/step\n",
      "Epoch 125/150\n",
      "4/4 - 0s - loss: 0.4046 - accuracy: 0.8900 - 2ms/epoch - 566us/step\n",
      "Epoch 126/150\n",
      "4/4 - 0s - loss: 0.4024 - accuracy: 0.8900 - 3ms/epoch - 668us/step\n",
      "Epoch 127/150\n",
      "4/4 - 0s - loss: 0.4007 - accuracy: 0.8900 - 2ms/epoch - 601us/step\n",
      "Epoch 128/150\n",
      "4/4 - 0s - loss: 0.3983 - accuracy: 0.8900 - 2ms/epoch - 568us/step\n",
      "Epoch 129/150\n",
      "4/4 - 0s - loss: 0.3948 - accuracy: 0.8900 - 2ms/epoch - 557us/step\n",
      "Epoch 130/150\n",
      "4/4 - 0s - loss: 0.3918 - accuracy: 0.9100 - 2ms/epoch - 563us/step\n",
      "Epoch 131/150\n",
      "4/4 - 0s - loss: 0.3891 - accuracy: 0.9300 - 2ms/epoch - 553us/step\n",
      "Epoch 132/150\n",
      "4/4 - 0s - loss: 0.3861 - accuracy: 0.9400 - 3ms/epoch - 648us/step\n",
      "Epoch 133/150\n",
      "4/4 - 0s - loss: 0.3844 - accuracy: 0.9500 - 2ms/epoch - 576us/step\n",
      "Epoch 134/150\n",
      "4/4 - 0s - loss: 0.3814 - accuracy: 0.9500 - 2ms/epoch - 572us/step\n",
      "Epoch 135/150\n",
      "4/4 - 0s - loss: 0.3787 - accuracy: 0.9500 - 2ms/epoch - 590us/step\n",
      "Epoch 136/150\n",
      "4/4 - 0s - loss: 0.3758 - accuracy: 0.9500 - 2ms/epoch - 542us/step\n",
      "Epoch 137/150\n",
      "4/4 - 0s - loss: 0.3736 - accuracy: 0.9500 - 2ms/epoch - 577us/step\n",
      "Epoch 138/150\n",
      "4/4 - 0s - loss: 0.3708 - accuracy: 0.9500 - 2ms/epoch - 619us/step\n",
      "Epoch 139/150\n",
      "4/4 - 0s - loss: 0.3679 - accuracy: 0.9500 - 2ms/epoch - 609us/step\n",
      "Epoch 140/150\n",
      "4/4 - 0s - loss: 0.3655 - accuracy: 0.9500 - 2ms/epoch - 556us/step\n",
      "Epoch 141/150\n",
      "4/4 - 0s - loss: 0.3627 - accuracy: 0.9500 - 2ms/epoch - 562us/step\n",
      "Epoch 142/150\n",
      "4/4 - 0s - loss: 0.3601 - accuracy: 0.9500 - 2ms/epoch - 603us/step\n",
      "Epoch 143/150\n",
      "4/4 - 0s - loss: 0.3575 - accuracy: 0.9500 - 2ms/epoch - 564us/step\n",
      "Epoch 144/150\n",
      "4/4 - 0s - loss: 0.3551 - accuracy: 0.9500 - 3ms/epoch - 653us/step\n",
      "Epoch 145/150\n",
      "4/4 - 0s - loss: 0.3528 - accuracy: 0.9400 - 2ms/epoch - 570us/step\n",
      "Epoch 146/150\n",
      "4/4 - 0s - loss: 0.3497 - accuracy: 0.9500 - 2ms/epoch - 579us/step\n",
      "Epoch 147/150\n",
      "4/4 - 0s - loss: 0.3473 - accuracy: 0.9500 - 2ms/epoch - 548us/step\n",
      "Epoch 148/150\n",
      "4/4 - 0s - loss: 0.3463 - accuracy: 0.9600 - 2ms/epoch - 577us/step\n",
      "Epoch 149/150\n",
      "4/4 - 0s - loss: 0.3444 - accuracy: 0.9400 - 3ms/epoch - 636us/step\n",
      "Epoch 150/150\n",
      "4/4 - 0s - loss: 0.3408 - accuracy: 0.9500 - 2ms/epoch - 615us/step\n"
     ]
    },
    {
     "data": {
      "text/plain": [
       "<keras.src.callbacks.History at 0x167cce450>"
      ]
     },
     "execution_count": 16,
     "metadata": {},
     "output_type": "execute_result"
    }
   ],
   "source": [
    "model.fit(scaled_X_train,y_train,epochs=150,verbose=2)"
   ]
  },
  {
   "cell_type": "markdown",
   "id": "4309ffbb",
   "metadata": {},
   "source": [
    "## Predicting New Unseen Data\n",
    "\n",
    "Let's see how we did by predicting on **new data**. Remember, our model has **never** seen the test data that we scaled previously! This process is the exact same process you would use on totally brand new data. For example , a brand new bank note that you just analyzed ."
   ]
  },
  {
   "cell_type": "code",
   "execution_count": 27,
   "id": "05eacad1",
   "metadata": {
    "scrolled": true
   },
   "outputs": [
    {
     "name": "stdout",
     "output_type": "stream",
     "text": [
      "2/2 [==============================] - 0s 2ms/step\n"
     ]
    }
   ],
   "source": [
    "preds = model.predict(scaled_X_test).argmax(axis=1)"
   ]
  },
  {
   "cell_type": "markdown",
   "id": "9191f2e3",
   "metadata": {},
   "source": [
    "# Evaluating Model Performance\n",
    "\n",
    "So how well did we do? How do we actually measure \"well\". Is 95% accuracy good enough? It all depends on the situation. Also we need to take into account things like recall and precision. Make sure to watch the video discussion on classification evaluation before running this code!"
   ]
  },
  {
   "cell_type": "code",
   "execution_count": 28,
   "id": "bd445b66",
   "metadata": {},
   "outputs": [],
   "source": [
    "from sklearn.metrics import classification_report, ConfusionMatrixDisplay"
   ]
  },
  {
   "cell_type": "code",
   "execution_count": 32,
   "id": "fcface4e",
   "metadata": {},
   "outputs": [
    {
     "data": {
      "text/plain": [
       "<sklearn.metrics._plot.confusion_matrix.ConfusionMatrixDisplay at 0x176221450>"
      ]
     },
     "execution_count": 32,
     "metadata": {},
     "output_type": "execute_result"
    },
    {
     "data": {
      "image/png": "[encoded data removed]",
      "text/plain": [
       "<Figure size 640x480 with 2 Axes>"
      ]
     },
     "metadata": {},
     "output_type": "display_data"
    }
   ],
   "source": [
    "ConfusionMatrixDisplay.from_predictions(y_test.argmax(axis=1), preds)"
   ]
  },
  {
   "cell_type": "code",
   "execution_count": 29,
   "id": "949bd5b6",
   "metadata": {},
   "outputs": [
    {
     "name": "stdout",
     "output_type": "stream",
     "text": [
      "              precision    recall  f1-score   support\n",
      "\n",
      "           0       1.00      1.00      1.00        19\n",
      "           1       0.93      0.93      0.93        15\n",
      "           2       0.94      0.94      0.94        16\n",
      "\n",
      "    accuracy                           0.96        50\n",
      "   macro avg       0.96      0.96      0.96        50\n",
      "weighted avg       0.96      0.96      0.96        50\n",
      "\n"
     ]
    }
   ],
   "source": [
    "print(classification_report(y_test.argmax(axis=1), preds))"
   ]
  },
  {
   "cell_type": "markdown",
   "id": "05f9efa1",
   "metadata": {},
   "source": [
    "## Saving and Loading Models\n",
    "\n",
    "Now that we have a model trained, let's see how we can save and load it."
   ]
  },
  {
   "cell_type": "code",
   "execution_count": 34,
   "id": "90d77d64",
   "metadata": {},
   "outputs": [],
   "source": [
    "model.save('myfirstmodel.keras')"
   ]
  },
  {
   "cell_type": "code",
   "execution_count": 35,
   "id": "e162c4a6",
   "metadata": {},
   "outputs": [],
   "source": [
    "from keras.models import load_model"
   ]
  },
  {
   "cell_type": "code",
   "execution_count": 36,
   "id": "33918170",
   "metadata": {},
   "outputs": [],
   "source": [
    "new_model = load_model('myfirstmodel.keras')"
   ]
  },
  {
   "cell_type": "code",
   "execution_count": 40,
   "id": "70e52dec",
   "metadata": {},
   "outputs": [
    {
     "name": "stdout",
     "output_type": "stream",
     "text": [
      "2/2 [==============================] - 0s 2ms/step\n"
     ]
    },
    {
     "data": {
      "text/plain": [
       "array([1, 0, 2, 1, 1, 0, 1, 2, 2, 1, 2, 0, 0, 0, 0, 1, 2, 1, 1, 2, 0, 2,\n",
       "       0, 2, 1, 2, 2, 2, 0, 0, 0, 0, 1, 0, 0, 2, 1, 0, 0, 0, 2, 1, 1, 0,\n",
       "       0, 1, 2, 2, 1, 2])"
      ]
     },
     "execution_count": 40,
     "metadata": {},
     "output_type": "execute_result"
    }
   ],
   "source": [
    "new_model.predict(scaled_X_test).argmax(axis=1)"
   ]
  }
 ],
 "metadata": {
  "kernelspec": {
   "display_name": "Python 3 (ipykernel)",
   "language": "python",
   "name": "python3"
  },
  "language_info": {
   "codemirror_mode": {
    "name": "ipython",
    "version": 3
   },
   "file_extension": ".py",
   "mimetype": "text/x-python",
   "name": "python",
   "nbconvert_exporter": "python",
   "pygments_lexer": "ipython3",
   "version": "3.11.6"
  }
 },
 "nbformat": 4,
 "nbformat_minor": 5
}
