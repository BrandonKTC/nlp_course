{
 "cells": [
  {
   "cell_type": "markdown",
   "id": "c639e555",
   "metadata": {},
   "source": [
    "# Text Generation with Neural Networks"
   ]
  },
  {
   "cell_type": "markdown",
   "id": "6f5a5838",
   "metadata": {},
   "source": [
    "## Functions for Processing Text\n",
    "\n",
    "### Reading in files as a string text"
   ]
  },
  {
   "cell_type": "code",
   "execution_count": 11,
   "id": "8743e38f",
   "metadata": {},
   "outputs": [],
   "source": [
    "def read_file(filepath):\n",
    "    with open(filepath) as f:\n",
    "        str_text = f.read()\n",
    "        \n",
    "    return str_text"
   ]
  },
  {
   "cell_type": "code",
   "execution_count": 12,
   "id": "97d9aabc",
   "metadata": {},
   "outputs": [],
   "source": [
    "# read_file('moby_dick_four_chapters.txt') "
   ]
  },
  {
   "cell_type": "markdown",
   "id": "e38685a5",
   "metadata": {},
   "source": [
    "### Tokenize and Clean Text"
   ]
  },
  {
   "cell_type": "code",
   "execution_count": 13,
   "id": "4f7aeccb",
   "metadata": {},
   "outputs": [],
   "source": [
    "import spacy"
   ]
  },
  {
   "cell_type": "code",
   "execution_count": 14,
   "id": "44621259",
   "metadata": {},
   "outputs": [],
   "source": [
    "nlp = spacy.load('en_core_web_md',disable=['parser','ner'])"
   ]
  },
  {
   "cell_type": "code",
   "execution_count": 15,
   "id": "04ee5ae5",
   "metadata": {},
   "outputs": [],
   "source": [
    "nlp.max_length = 1198623"
   ]
  },
  {
   "cell_type": "code",
   "execution_count": 16,
   "id": "7c735b0d",
   "metadata": {},
   "outputs": [],
   "source": [
    "def separete_punc(doc_text):\n",
    "    return [token.text.lower() for token in nlp(doc_text) if token.text not in '\\n\\n \\n\\n\\n!\"-#$%&()--.*+,-/:;<=>?@[\\\\]^_`{|}~\\t\\n ']"
   ]
  },
  {
   "cell_type": "code",
   "execution_count": 17,
   "id": "27c7e1a9",
   "metadata": {},
   "outputs": [],
   "source": [
    "d = read_file('moby_dick_four_chapters.txt')"
   ]
  },
  {
   "cell_type": "code",
   "execution_count": 18,
   "id": "26696e9c",
   "metadata": {},
   "outputs": [],
   "source": [
    "tokens = separete_punc(d)"
   ]
  },
  {
   "cell_type": "code",
   "execution_count": 20,
   "id": "dd1ae2d5",
   "metadata": {},
   "outputs": [
    {
     "data": {
      "text/plain": [
       "11338"
      ]
     },
     "execution_count": 20,
     "metadata": {},
     "output_type": "execute_result"
    }
   ],
   "source": [
    "len(tokens)"
   ]
  },
  {
   "cell_type": "markdown",
   "id": "8836730d",
   "metadata": {},
   "source": [
    "## Create Sequences of Tokens"
   ]
  },
  {
   "cell_type": "code",
   "execution_count": null,
   "id": "0c0923f5",
   "metadata": {},
   "outputs": [],
   "source": [
    "# 25 words --> network predict #26"
   ]
  },
  {
   "cell_type": "code",
   "execution_count": 21,
   "id": "dc88be23",
   "metadata": {},
   "outputs": [],
   "source": [
    "train_len = 25 + 1\n",
    "\n",
    "text_sequences = []\n",
    "\n",
    "for i in range(train_len, len(tokens)):\n",
    "    seq = tokens[i-train_len:i]\n",
    "    \n",
    "    text_sequences.append(seq)"
   ]
  },
  {
   "cell_type": "code",
   "execution_count": 23,
   "id": "a9b2f17f",
   "metadata": {},
   "outputs": [
    {
     "data": {
      "text/plain": [
       "list"
      ]
     },
     "execution_count": 23,
     "metadata": {},
     "output_type": "execute_result"
    }
   ],
   "source": [
    "type(text_sequences)"
   ]
  },
  {
   "cell_type": "code",
   "execution_count": 26,
   "id": "ae4e7741",
   "metadata": {},
   "outputs": [
    {
     "data": {
      "text/plain": [
       "'call me ishmael some years ago never mind how long precisely having little or no money in my purse and nothing particular to interest me on'"
      ]
     },
     "execution_count": 26,
     "metadata": {},
     "output_type": "execute_result"
    }
   ],
   "source": [
    "' '.join(text_sequences[0])"
   ]
  },
  {
   "cell_type": "markdown",
   "id": "0f1ad8b6",
   "metadata": {},
   "source": [
    "# Keras"
   ]
  },
  {
   "cell_type": "markdown",
   "id": "27df6717",
   "metadata": {},
   "source": [
    "### Keras Tokenization"
   ]
  },
  {
   "cell_type": "code",
   "execution_count": 27,
   "id": "3a668aad",
   "metadata": {},
   "outputs": [],
   "source": [
    "from keras.preprocessing.text import Tokenizer"
   ]
  },
  {
   "cell_type": "code",
   "execution_count": 28,
   "id": "ca671ca8",
   "metadata": {},
   "outputs": [],
   "source": [
    "tokenizer = Tokenizer()\n",
    "\n",
    "tokenizer.fit_on_texts(text_sequences)"
   ]
  },
  {
   "cell_type": "code",
   "execution_count": 29,
   "id": "1efc2f54",
   "metadata": {},
   "outputs": [],
   "source": [
    "sequences = tokenizer.texts_to_sequences(text_sequences)"
   ]
  },
  {
   "cell_type": "code",
   "execution_count": 33,
   "id": "d81dd282",
   "metadata": {},
   "outputs": [],
   "source": [
    "# sequences[0]"
   ]
  },
  {
   "cell_type": "code",
   "execution_count": 34,
   "id": "a5e28f04",
   "metadata": {},
   "outputs": [],
   "source": [
    "# tokenizer.index_word"
   ]
  },
  {
   "cell_type": "code",
   "execution_count": 32,
   "id": "04709548",
   "metadata": {
    "scrolled": false
   },
   "outputs": [
    {
     "name": "stdout",
     "output_type": "stream",
     "text": [
      "956 : call\n",
      "14 : me\n",
      "263 : ishmael\n",
      "51 : some\n",
      "261 : years\n",
      "408 : ago\n",
      "87 : never\n",
      "219 : mind\n",
      "129 : how\n",
      "111 : long\n",
      "954 : precisely\n",
      "260 : having\n",
      "50 : little\n",
      "43 : or\n",
      "38 : no\n",
      "314 : money\n",
      "7 : in\n",
      "23 : my\n",
      "546 : purse\n",
      "3 : and\n",
      "150 : nothing\n",
      "259 : particular\n",
      "6 : to\n",
      "2713 : interest\n",
      "14 : me\n",
      "24 : on\n"
     ]
    }
   ],
   "source": [
    "for i in sequences[0]:\n",
    "    print(f\"{i} : {tokenizer.index_word[i]}\")"
   ]
  },
  {
   "cell_type": "code",
   "execution_count": 36,
   "id": "dec54ef7",
   "metadata": {},
   "outputs": [],
   "source": [
    "# tokenizer.word_counts"
   ]
  },
  {
   "cell_type": "code",
   "execution_count": 39,
   "id": "fa38320c",
   "metadata": {},
   "outputs": [
    {
     "data": {
      "text/plain": [
       "2718"
      ]
     },
     "execution_count": 39,
     "metadata": {},
     "output_type": "execute_result"
    }
   ],
   "source": [
    "vocabulary_size = len(tokenizer.word_counts)\n",
    "vocabulary_size"
   ]
  },
  {
   "cell_type": "markdown",
   "id": "08c1de23",
   "metadata": {},
   "source": [
    "### Convert to Numpy Matrix"
   ]
  },
  {
   "cell_type": "code",
   "execution_count": 40,
   "id": "9e0ca8b4",
   "metadata": {},
   "outputs": [],
   "source": [
    "import numpy as np"
   ]
  },
  {
   "cell_type": "code",
   "execution_count": 41,
   "id": "2069f4ad",
   "metadata": {},
   "outputs": [
    {
     "data": {
      "text/plain": [
       "array([[ 956,   14,  263, ..., 2713,   14,   24],\n",
       "       [  14,  263,   51, ...,   14,   24,  957],\n",
       "       [ 263,   51,  261, ...,   24,  957,    5],\n",
       "       ...,\n",
       "       [ 952,   12,  166, ...,  262,   53,    2],\n",
       "       [  12,  166, 2712, ...,   53,    2, 2718],\n",
       "       [ 166, 2712,    3, ...,    2, 2718,   26]])"
      ]
     },
     "execution_count": 41,
     "metadata": {},
     "output_type": "execute_result"
    }
   ],
   "source": [
    "sequences = np.array(sequences)\n",
    "\n",
    "sequences"
   ]
  },
  {
   "cell_type": "markdown",
   "id": "1f708571",
   "metadata": {},
   "source": [
    "### features labels Split"
   ]
  },
  {
   "cell_type": "code",
   "execution_count": 42,
   "id": "68b350f7",
   "metadata": {},
   "outputs": [],
   "source": [
    "from keras.utils import to_categorical"
   ]
  },
  {
   "cell_type": "code",
   "execution_count": 43,
   "id": "11a19d13",
   "metadata": {},
   "outputs": [],
   "source": [
    "X = sequences[:,:-1]"
   ]
  },
  {
   "cell_type": "code",
   "execution_count": 44,
   "id": "6ec018a1",
   "metadata": {},
   "outputs": [],
   "source": [
    "y = sequences[:,-1]"
   ]
  },
  {
   "cell_type": "code",
   "execution_count": 46,
   "id": "ccffb6d1",
   "metadata": {},
   "outputs": [],
   "source": [
    "y = to_categorical(y, num_classes=vocabulary_size+1)"
   ]
  },
  {
   "cell_type": "code",
   "execution_count": 47,
   "id": "13a69a50",
   "metadata": {},
   "outputs": [],
   "source": [
    "seq_len = X.shape[1]"
   ]
  },
  {
   "cell_type": "markdown",
   "id": "2f51da81",
   "metadata": {},
   "source": [
    "# Creating an LSTM based model"
   ]
  },
  {
   "cell_type": "code",
   "execution_count": 51,
   "id": "7bf749e7",
   "metadata": {},
   "outputs": [],
   "source": [
    "from keras.models import Sequential\n",
    "from keras.layers import Dense, LSTM, Embedding"
   ]
  },
  {
   "cell_type": "code",
   "execution_count": 54,
   "id": "bf65d6f3",
   "metadata": {},
   "outputs": [],
   "source": [
    "def create_model(vocabulary_size,seq_len):\n",
    "    \n",
    "    model = Sequential()\n",
    "    \n",
    "    model.add(Embedding(vocabulary_size,seq_len,input_length=seq_len))\n",
    "    model.add(LSTM(seq_len*6,return_sequences=True))\n",
    "    model.add(LSTM(seq_len*6))\n",
    "    model.add(Dense(seq_len*6,activation='relu'))\n",
    "    model.add(Dense(vocabulary_size, activation='softmax'))\n",
    "    \n",
    "    model.compile(loss='categorical_crossentropy',optimizer='adam',metrics=['accuracy'])\n",
    "    \n",
    "    model.summary()\n",
    "    \n",
    "    return model"
   ]
  },
  {
   "cell_type": "markdown",
   "id": "a55ce730",
   "metadata": {},
   "source": [
    "### Training the Model"
   ]
  },
  {
   "cell_type": "code",
   "execution_count": 55,
   "id": "14f1e0e2",
   "metadata": {},
   "outputs": [
    {
     "name": "stdout",
     "output_type": "stream",
     "text": [
      "Model: \"sequential_1\"\n",
      "_________________________________________________________________\n",
      " Layer (type)                Output Shape              Param #   \n",
      "=================================================================\n",
      " embedding_1 (Embedding)     (None, 25, 25)            67975     \n",
      "                                                                 \n",
      " lstm_2 (LSTM)               (None, 25, 150)           105600    \n",
      "                                                                 \n",
      " lstm_3 (LSTM)               (None, 150)               180600    \n",
      "                                                                 \n",
      " dense_2 (Dense)             (None, 150)               22650     \n",
      "                                                                 \n",
      " dense_3 (Dense)             (None, 2719)              410569    \n",
      "                                                                 \n",
      "=================================================================\n",
      "Total params: 787394 (3.00 MB)\n",
      "Trainable params: 787394 (3.00 MB)\n",
      "Non-trainable params: 0 (0.00 Byte)\n",
      "_________________________________________________________________\n"
     ]
    }
   ],
   "source": [
    "model = create_model(vocabulary_size+1, seq_len)"
   ]
  },
  {
   "cell_type": "code",
   "execution_count": 57,
   "id": "9e5ed0df",
   "metadata": {},
   "outputs": [],
   "source": [
    "from pickle import dump, load"
   ]
  },
  {
   "cell_type": "code",
   "execution_count": 58,
   "id": "2f2ce384",
   "metadata": {
    "scrolled": true
   },
   "outputs": [
    {
     "name": "stdout",
     "output_type": "stream",
     "text": [
      "Epoch 1/300\n",
      "89/89 [==============================] - 8s 74ms/step - loss: 6.8595 - accuracy: 0.0469\n",
      "Epoch 2/300\n",
      "89/89 [==============================] - 7s 84ms/step - loss: 6.3840 - accuracy: 0.0529\n",
      "Epoch 3/300\n",
      "89/89 [==============================] - 8s 85ms/step - loss: 6.3305 - accuracy: 0.0529\n",
      "Epoch 4/300\n",
      "89/89 [==============================] - 8s 88ms/step - loss: 6.1927 - accuracy: 0.0519\n",
      "Epoch 5/300\n",
      "89/89 [==============================] - 8s 86ms/step - loss: 6.0875 - accuracy: 0.0540\n",
      "Epoch 6/300\n",
      "89/89 [==============================] - 8s 86ms/step - loss: 5.9412 - accuracy: 0.0606\n",
      "Epoch 7/300\n",
      "89/89 [==============================] - 7s 83ms/step - loss: 5.8412 - accuracy: 0.0665\n",
      "Epoch 8/300\n",
      "89/89 [==============================] - 8s 85ms/step - loss: 5.7650 - accuracy: 0.0682\n",
      "Epoch 9/300\n",
      "89/89 [==============================] - 7s 83ms/step - loss: 5.6960 - accuracy: 0.0717\n",
      "Epoch 10/300\n",
      "89/89 [==============================] - 8s 85ms/step - loss: 5.6205 - accuracy: 0.0777\n",
      "Epoch 11/300\n",
      "89/89 [==============================] - 8s 86ms/step - loss: 5.5555 - accuracy: 0.0766\n",
      "Epoch 12/300\n",
      "89/89 [==============================] - 7s 84ms/step - loss: 5.4952 - accuracy: 0.0788\n",
      "Epoch 13/300\n",
      "89/89 [==============================] - 8s 86ms/step - loss: 5.4304 - accuracy: 0.0828\n",
      "Epoch 14/300\n",
      "89/89 [==============================] - 8s 87ms/step - loss: 5.3754 - accuracy: 0.0817\n",
      "Epoch 15/300\n",
      "89/89 [==============================] - 8s 87ms/step - loss: 5.3234 - accuracy: 0.0859\n",
      "Epoch 16/300\n",
      "89/89 [==============================] - 8s 88ms/step - loss: 5.2735 - accuracy: 0.0849\n",
      "Epoch 17/300\n",
      "89/89 [==============================] - 8s 86ms/step - loss: 5.2267 - accuracy: 0.0896\n",
      "Epoch 18/300\n",
      "89/89 [==============================] - 8s 84ms/step - loss: 5.1838 - accuracy: 0.0895\n",
      "Epoch 19/300\n",
      "89/89 [==============================] - 8s 89ms/step - loss: 5.1414 - accuracy: 0.0915\n",
      "Epoch 20/300\n",
      "89/89 [==============================] - 8s 90ms/step - loss: 5.1007 - accuracy: 0.0907\n",
      "Epoch 21/300\n",
      "89/89 [==============================] - 8s 90ms/step - loss: 5.0651 - accuracy: 0.0934\n",
      "Epoch 22/300\n",
      "89/89 [==============================] - 8s 88ms/step - loss: 5.0226 - accuracy: 0.0940\n",
      "Epoch 23/300\n",
      "89/89 [==============================] - 8s 86ms/step - loss: 4.9843 - accuracy: 0.0939\n",
      "Epoch 24/300\n",
      "89/89 [==============================] - 8s 87ms/step - loss: 4.9477 - accuracy: 0.0934\n",
      "Epoch 25/300\n",
      "89/89 [==============================] - 7s 82ms/step - loss: 4.9090 - accuracy: 0.0956\n",
      "Epoch 26/300\n",
      "89/89 [==============================] - 8s 84ms/step - loss: 4.8713 - accuracy: 0.0965\n",
      "Epoch 27/300\n",
      "89/89 [==============================] - 7s 84ms/step - loss: 4.8355 - accuracy: 0.0942\n",
      "Epoch 28/300\n",
      "89/89 [==============================] - 8s 88ms/step - loss: 4.7977 - accuracy: 0.0992\n",
      "Epoch 29/300\n",
      "89/89 [==============================] - 8s 85ms/step - loss: 4.7614 - accuracy: 0.1013\n",
      "Epoch 30/300\n",
      "89/89 [==============================] - 8s 90ms/step - loss: 4.7277 - accuracy: 0.0987\n",
      "Epoch 31/300\n",
      "89/89 [==============================] - 8s 88ms/step - loss: 4.6899 - accuracy: 0.0987\n",
      "Epoch 32/300\n",
      "89/89 [==============================] - 8s 88ms/step - loss: 4.6521 - accuracy: 0.0992\n",
      "Epoch 33/300\n",
      "89/89 [==============================] - 8s 95ms/step - loss: 4.6189 - accuracy: 0.1000\n",
      "Epoch 34/300\n",
      "89/89 [==============================] - 8s 88ms/step - loss: 4.5816 - accuracy: 0.1025\n",
      "Epoch 35/300\n",
      "89/89 [==============================] - 8s 89ms/step - loss: 4.5466 - accuracy: 0.1024\n",
      "Epoch 36/300\n",
      "89/89 [==============================] - 8s 87ms/step - loss: 4.5144 - accuracy: 0.1046\n",
      "Epoch 37/300\n",
      "89/89 [==============================] - 8s 88ms/step - loss: 4.4743 - accuracy: 0.1053\n",
      "Epoch 38/300\n",
      "89/89 [==============================] - 8s 85ms/step - loss: 4.4410 - accuracy: 0.1087\n",
      "Epoch 39/300\n",
      "89/89 [==============================] - 8s 85ms/step - loss: 4.4100 - accuracy: 0.1102\n",
      "Epoch 40/300\n",
      "89/89 [==============================] - 8s 86ms/step - loss: 4.3698 - accuracy: 0.1085\n",
      "Epoch 41/300\n",
      "89/89 [==============================] - 10s 108ms/step - loss: 4.3372 - accuracy: 0.1130\n",
      "Epoch 42/300\n",
      "89/89 [==============================] - 9s 96ms/step - loss: 4.2973 - accuracy: 0.1184\n",
      "Epoch 43/300\n",
      "89/89 [==============================] - 8s 84ms/step - loss: 4.2627 - accuracy: 0.1168\n",
      "Epoch 44/300\n",
      "89/89 [==============================] - 8s 87ms/step - loss: 4.2229 - accuracy: 0.1169\n",
      "Epoch 45/300\n",
      "89/89 [==============================] - 8s 89ms/step - loss: 4.1916 - accuracy: 0.1223\n",
      "Epoch 46/300\n",
      "89/89 [==============================] - 8s 91ms/step - loss: 4.1550 - accuracy: 0.1247\n",
      "Epoch 47/300\n",
      "89/89 [==============================] - 8s 85ms/step - loss: 4.1194 - accuracy: 0.1275\n",
      "Epoch 48/300\n",
      "89/89 [==============================] - 7s 84ms/step - loss: 4.0883 - accuracy: 0.1270\n",
      "Epoch 49/300\n",
      "89/89 [==============================] - 7s 83ms/step - loss: 4.0559 - accuracy: 0.1308\n",
      "Epoch 50/300\n",
      "89/89 [==============================] - 7s 81ms/step - loss: 4.0210 - accuracy: 0.1353\n",
      "Epoch 51/300\n",
      "89/89 [==============================] - 7s 82ms/step - loss: 3.9860 - accuracy: 0.1407\n",
      "Epoch 52/300\n",
      "89/89 [==============================] - 7s 80ms/step - loss: 3.9490 - accuracy: 0.1409\n",
      "Epoch 53/300\n",
      "89/89 [==============================] - 7s 81ms/step - loss: 3.9189 - accuracy: 0.1437\n",
      "Epoch 54/300\n",
      "89/89 [==============================] - 7s 84ms/step - loss: 3.8910 - accuracy: 0.1461\n",
      "Epoch 55/300\n",
      "89/89 [==============================] - 8s 87ms/step - loss: 3.8558 - accuracy: 0.1520\n",
      "Epoch 56/300\n",
      "89/89 [==============================] - 7s 84ms/step - loss: 3.8288 - accuracy: 0.1543\n",
      "Epoch 57/300\n",
      "89/89 [==============================] - 8s 87ms/step - loss: 3.7883 - accuracy: 0.1590\n",
      "Epoch 58/300\n",
      "89/89 [==============================] - 8s 84ms/step - loss: 3.7630 - accuracy: 0.1626\n",
      "Epoch 59/300\n",
      "89/89 [==============================] - 8s 85ms/step - loss: 3.7311 - accuracy: 0.1639\n",
      "Epoch 60/300\n",
      "89/89 [==============================] - 8s 86ms/step - loss: 3.6980 - accuracy: 0.1704\n",
      "Epoch 61/300\n",
      "89/89 [==============================] - 8s 87ms/step - loss: 3.6657 - accuracy: 0.1724\n",
      "Epoch 62/300\n",
      "89/89 [==============================] - 8s 85ms/step - loss: 3.6467 - accuracy: 0.1761\n",
      "Epoch 63/300\n",
      "89/89 [==============================] - 8s 85ms/step - loss: 3.6107 - accuracy: 0.1792\n",
      "Epoch 64/300\n",
      "89/89 [==============================] - 8s 86ms/step - loss: 3.5812 - accuracy: 0.1867\n",
      "Epoch 65/300\n",
      "89/89 [==============================] - 8s 86ms/step - loss: 3.5544 - accuracy: 0.1871\n",
      "Epoch 66/300\n",
      "89/89 [==============================] - 8s 87ms/step - loss: 3.5214 - accuracy: 0.1928\n",
      "Epoch 67/300\n",
      "89/89 [==============================] - 8s 88ms/step - loss: 3.4973 - accuracy: 0.1951\n",
      "Epoch 68/300\n",
      "89/89 [==============================] - 8s 87ms/step - loss: 3.4713 - accuracy: 0.1982\n",
      "Epoch 69/300\n",
      "89/89 [==============================] - 8s 87ms/step - loss: 3.4440 - accuracy: 0.2023\n",
      "Epoch 70/300\n",
      "89/89 [==============================] - 8s 87ms/step - loss: 3.4153 - accuracy: 0.2037\n",
      "Epoch 71/300\n",
      "89/89 [==============================] - 8s 91ms/step - loss: 3.3902 - accuracy: 0.2092\n",
      "Epoch 72/300\n",
      "89/89 [==============================] - 8s 88ms/step - loss: 3.3608 - accuracy: 0.2157\n",
      "Epoch 73/300\n",
      "89/89 [==============================] - 8s 88ms/step - loss: 3.3236 - accuracy: 0.2224\n",
      "Epoch 74/300\n",
      "89/89 [==============================] - 8s 85ms/step - loss: 3.3011 - accuracy: 0.2240\n",
      "Epoch 75/300\n",
      "89/89 [==============================] - 8s 86ms/step - loss: 3.2799 - accuracy: 0.2247\n",
      "Epoch 76/300\n",
      "89/89 [==============================] - 7s 82ms/step - loss: 3.2485 - accuracy: 0.2314\n",
      "Epoch 77/300\n",
      "89/89 [==============================] - 7s 78ms/step - loss: 3.2360 - accuracy: 0.2367\n",
      "Epoch 78/300\n",
      "89/89 [==============================] - 8s 84ms/step - loss: 3.2151 - accuracy: 0.2371\n",
      "Epoch 79/300\n",
      "89/89 [==============================] - 8s 85ms/step - loss: 3.1785 - accuracy: 0.2436\n",
      "Epoch 80/300\n",
      "89/89 [==============================] - 8s 86ms/step - loss: 3.1531 - accuracy: 0.2466\n",
      "Epoch 81/300\n",
      "89/89 [==============================] - 8s 90ms/step - loss: 3.1344 - accuracy: 0.2505\n",
      "Epoch 82/300\n"
     ]
    },
    {
     "name": "stdout",
     "output_type": "stream",
     "text": [
      "89/89 [==============================] - 7s 81ms/step - loss: 3.1094 - accuracy: 0.2594\n",
      "Epoch 83/300\n",
      "89/89 [==============================] - 7s 81ms/step - loss: 3.0876 - accuracy: 0.2600\n",
      "Epoch 84/300\n",
      "89/89 [==============================] - 7s 84ms/step - loss: 3.0557 - accuracy: 0.2679\n",
      "Epoch 85/300\n",
      "89/89 [==============================] - 7s 84ms/step - loss: 3.0388 - accuracy: 0.2725\n",
      "Epoch 86/300\n",
      "89/89 [==============================] - 7s 83ms/step - loss: 3.0127 - accuracy: 0.2773\n",
      "Epoch 87/300\n",
      "89/89 [==============================] - 7s 82ms/step - loss: 2.9858 - accuracy: 0.2839\n",
      "Epoch 88/300\n",
      "89/89 [==============================] - 8s 85ms/step - loss: 2.9731 - accuracy: 0.2857\n",
      "Epoch 89/300\n",
      "89/89 [==============================] - 7s 79ms/step - loss: 2.9488 - accuracy: 0.2918\n",
      "Epoch 90/300\n",
      "89/89 [==============================] - 7s 84ms/step - loss: 2.9240 - accuracy: 0.2981\n",
      "Epoch 91/300\n",
      "89/89 [==============================] - 7s 84ms/step - loss: 2.9227 - accuracy: 0.2898\n",
      "Epoch 92/300\n",
      "89/89 [==============================] - 7s 82ms/step - loss: 2.8878 - accuracy: 0.3022\n",
      "Epoch 93/300\n",
      "89/89 [==============================] - 8s 85ms/step - loss: 2.8666 - accuracy: 0.3071\n",
      "Epoch 94/300\n",
      "89/89 [==============================] - 8s 85ms/step - loss: 2.8455 - accuracy: 0.3103\n",
      "Epoch 95/300\n",
      "89/89 [==============================] - 8s 85ms/step - loss: 2.8252 - accuracy: 0.3135\n",
      "Epoch 96/300\n",
      "89/89 [==============================] - 8s 85ms/step - loss: 2.8069 - accuracy: 0.3155\n",
      "Epoch 97/300\n",
      "89/89 [==============================] - 8s 85ms/step - loss: 2.7780 - accuracy: 0.3219\n",
      "Epoch 98/300\n",
      "89/89 [==============================] - 7s 84ms/step - loss: 2.7664 - accuracy: 0.3286\n",
      "Epoch 99/300\n",
      "89/89 [==============================] - 7s 84ms/step - loss: 2.7430 - accuracy: 0.3332\n",
      "Epoch 100/300\n",
      "89/89 [==============================] - 7s 84ms/step - loss: 2.7252 - accuracy: 0.3329\n",
      "Epoch 101/300\n",
      "89/89 [==============================] - 8s 85ms/step - loss: 2.7001 - accuracy: 0.3405\n",
      "Epoch 102/300\n",
      "89/89 [==============================] - 7s 84ms/step - loss: 2.6847 - accuracy: 0.3430\n",
      "Epoch 103/300\n",
      "89/89 [==============================] - 7s 83ms/step - loss: 2.6715 - accuracy: 0.3435\n",
      "Epoch 104/300\n",
      "89/89 [==============================] - 8s 90ms/step - loss: 2.6552 - accuracy: 0.3506\n",
      "Epoch 105/300\n",
      "89/89 [==============================] - 7s 83ms/step - loss: 2.6410 - accuracy: 0.3489\n",
      "Epoch 106/300\n",
      "89/89 [==============================] - 8s 85ms/step - loss: 2.6180 - accuracy: 0.3593\n",
      "Epoch 107/300\n",
      "89/89 [==============================] - 8s 86ms/step - loss: 2.6042 - accuracy: 0.3580\n",
      "Epoch 108/300\n",
      "89/89 [==============================] - 8s 85ms/step - loss: 2.5853 - accuracy: 0.3639\n",
      "Epoch 109/300\n",
      "89/89 [==============================] - 8s 85ms/step - loss: 2.5832 - accuracy: 0.3637\n",
      "Epoch 110/300\n",
      "89/89 [==============================] - 8s 87ms/step - loss: 2.5619 - accuracy: 0.3667\n",
      "Epoch 111/300\n",
      "89/89 [==============================] - 8s 84ms/step - loss: 2.5318 - accuracy: 0.3773\n",
      "Epoch 112/300\n",
      "89/89 [==============================] - 8s 85ms/step - loss: 2.5186 - accuracy: 0.3830\n",
      "Epoch 113/300\n",
      "89/89 [==============================] - 7s 84ms/step - loss: 2.5027 - accuracy: 0.3867\n",
      "Epoch 114/300\n",
      "89/89 [==============================] - 7s 83ms/step - loss: 2.4843 - accuracy: 0.3899\n",
      "Epoch 115/300\n",
      "89/89 [==============================] - 8s 84ms/step - loss: 2.4624 - accuracy: 0.3939\n",
      "Epoch 116/300\n",
      "89/89 [==============================] - 8s 84ms/step - loss: 2.4556 - accuracy: 0.3930\n",
      "Epoch 117/300\n",
      "89/89 [==============================] - 7s 84ms/step - loss: 2.4403 - accuracy: 0.3979\n",
      "Epoch 118/300\n",
      "89/89 [==============================] - 8s 85ms/step - loss: 2.4235 - accuracy: 0.3974\n",
      "Epoch 119/300\n",
      "89/89 [==============================] - 8s 84ms/step - loss: 2.4005 - accuracy: 0.4038\n",
      "Epoch 120/300\n",
      "89/89 [==============================] - 8s 85ms/step - loss: 2.3946 - accuracy: 0.4067\n",
      "Epoch 121/300\n",
      "89/89 [==============================] - 8s 85ms/step - loss: 2.3835 - accuracy: 0.4075\n",
      "Epoch 122/300\n",
      "89/89 [==============================] - 7s 84ms/step - loss: 2.3735 - accuracy: 0.4087\n",
      "Epoch 123/300\n",
      "89/89 [==============================] - 8s 85ms/step - loss: 2.3550 - accuracy: 0.4165\n",
      "Epoch 124/300\n",
      "89/89 [==============================] - 8s 85ms/step - loss: 2.3413 - accuracy: 0.4149\n",
      "Epoch 125/300\n",
      "89/89 [==============================] - 8s 88ms/step - loss: 2.3313 - accuracy: 0.4154\n",
      "Epoch 126/300\n",
      "89/89 [==============================] - 8s 85ms/step - loss: 2.3193 - accuracy: 0.4224\n",
      "Epoch 127/300\n",
      "89/89 [==============================] - 8s 86ms/step - loss: 2.2960 - accuracy: 0.4287\n",
      "Epoch 128/300\n",
      "89/89 [==============================] - 8s 85ms/step - loss: 2.2903 - accuracy: 0.4267\n",
      "Epoch 129/300\n",
      "89/89 [==============================] - 8s 85ms/step - loss: 2.2786 - accuracy: 0.4284\n",
      "Epoch 130/300\n",
      "89/89 [==============================] - 7s 82ms/step - loss: 2.2491 - accuracy: 0.4389\n",
      "Epoch 131/300\n",
      "89/89 [==============================] - 7s 82ms/step - loss: 2.2408 - accuracy: 0.4379\n",
      "Epoch 132/300\n",
      "89/89 [==============================] - 7s 83ms/step - loss: 2.2338 - accuracy: 0.4394\n",
      "Epoch 133/300\n",
      "89/89 [==============================] - 8s 85ms/step - loss: 2.2228 - accuracy: 0.4440\n",
      "Epoch 134/300\n",
      "89/89 [==============================] - 8s 87ms/step - loss: 2.2116 - accuracy: 0.4480\n",
      "Epoch 135/300\n",
      "89/89 [==============================] - 8s 86ms/step - loss: 2.1931 - accuracy: 0.4533\n",
      "Epoch 136/300\n",
      "89/89 [==============================] - 8s 89ms/step - loss: 2.1852 - accuracy: 0.4488\n",
      "Epoch 137/300\n",
      "89/89 [==============================] - 8s 85ms/step - loss: 2.1656 - accuracy: 0.4539\n",
      "Epoch 138/300\n",
      "89/89 [==============================] - 7s 84ms/step - loss: 2.1498 - accuracy: 0.4569\n",
      "Epoch 139/300\n",
      "89/89 [==============================] - 7s 84ms/step - loss: 2.1410 - accuracy: 0.4605\n",
      "Epoch 140/300\n",
      "89/89 [==============================] - 8s 86ms/step - loss: 2.1384 - accuracy: 0.4596\n",
      "Epoch 141/300\n",
      "89/89 [==============================] - 7s 83ms/step - loss: 2.1244 - accuracy: 0.4638\n",
      "Epoch 142/300\n",
      "89/89 [==============================] - 8s 85ms/step - loss: 2.1000 - accuracy: 0.4714\n",
      "Epoch 143/300\n",
      "89/89 [==============================] - 8s 85ms/step - loss: 2.0882 - accuracy: 0.4747\n",
      "Epoch 144/300\n",
      "89/89 [==============================] - 8s 84ms/step - loss: 2.0776 - accuracy: 0.4729\n",
      "Epoch 145/300\n",
      "89/89 [==============================] - 8s 85ms/step - loss: 2.0690 - accuracy: 0.4720\n",
      "Epoch 146/300\n",
      "89/89 [==============================] - 7s 84ms/step - loss: 2.0546 - accuracy: 0.4806\n",
      "Epoch 147/300\n",
      "89/89 [==============================] - 7s 84ms/step - loss: 2.0495 - accuracy: 0.4783\n",
      "Epoch 148/300\n",
      "89/89 [==============================] - 7s 83ms/step - loss: 2.0363 - accuracy: 0.4799\n",
      "Epoch 149/300\n",
      "89/89 [==============================] - 8s 87ms/step - loss: 2.0149 - accuracy: 0.4876\n",
      "Epoch 150/300\n",
      "89/89 [==============================] - 8s 85ms/step - loss: 2.0065 - accuracy: 0.4933\n",
      "Epoch 151/300\n",
      "89/89 [==============================] - 8s 88ms/step - loss: 1.9997 - accuracy: 0.4924\n",
      "Epoch 152/300\n",
      "89/89 [==============================] - 8s 88ms/step - loss: 2.0026 - accuracy: 0.4884\n",
      "Epoch 153/300\n",
      "89/89 [==============================] - 7s 83ms/step - loss: 1.9768 - accuracy: 0.4943\n",
      "Epoch 154/300\n",
      "89/89 [==============================] - 8s 84ms/step - loss: 1.9676 - accuracy: 0.4958\n",
      "Epoch 155/300\n",
      "89/89 [==============================] - 8s 84ms/step - loss: 1.9517 - accuracy: 0.4981\n",
      "Epoch 156/300\n",
      "89/89 [==============================] - 8s 86ms/step - loss: 1.9402 - accuracy: 0.5034\n",
      "Epoch 157/300\n",
      "89/89 [==============================] - 8s 88ms/step - loss: 1.9339 - accuracy: 0.5024\n",
      "Epoch 158/300\n",
      "89/89 [==============================] - 8s 92ms/step - loss: 1.9189 - accuracy: 0.5111\n",
      "Epoch 159/300\n",
      "89/89 [==============================] - 8s 91ms/step - loss: 1.9011 - accuracy: 0.5094\n",
      "Epoch 160/300\n",
      "89/89 [==============================] - 7s 84ms/step - loss: 1.8976 - accuracy: 0.5113\n",
      "Epoch 161/300\n",
      "89/89 [==============================] - 8s 86ms/step - loss: 1.8901 - accuracy: 0.5147\n",
      "Epoch 162/300\n"
     ]
    },
    {
     "name": "stdout",
     "output_type": "stream",
     "text": [
      "89/89 [==============================] - 8s 85ms/step - loss: 1.8689 - accuracy: 0.5196\n",
      "Epoch 163/300\n",
      "89/89 [==============================] - 7s 82ms/step - loss: 1.8564 - accuracy: 0.5219\n",
      "Epoch 164/300\n",
      "89/89 [==============================] - 7s 84ms/step - loss: 1.8534 - accuracy: 0.5225\n",
      "Epoch 165/300\n",
      "89/89 [==============================] - 7s 83ms/step - loss: 1.8372 - accuracy: 0.5282\n",
      "Epoch 166/300\n",
      "89/89 [==============================] - 8s 85ms/step - loss: 1.8253 - accuracy: 0.5305\n",
      "Epoch 167/300\n",
      "89/89 [==============================] - 8s 86ms/step - loss: 1.8152 - accuracy: 0.5293\n",
      "Epoch 168/300\n",
      "89/89 [==============================] - 8s 87ms/step - loss: 1.8104 - accuracy: 0.5295\n",
      "Epoch 169/300\n",
      "89/89 [==============================] - 7s 82ms/step - loss: 1.7891 - accuracy: 0.5362\n",
      "Epoch 170/300\n",
      "89/89 [==============================] - 7s 83ms/step - loss: 1.7851 - accuracy: 0.5370\n",
      "Epoch 171/300\n",
      "89/89 [==============================] - 7s 83ms/step - loss: 1.7710 - accuracy: 0.5416\n",
      "Epoch 172/300\n",
      "89/89 [==============================] - 8s 88ms/step - loss: 1.7698 - accuracy: 0.5410\n",
      "Epoch 173/300\n",
      "89/89 [==============================] - 8s 84ms/step - loss: 1.7530 - accuracy: 0.5419\n",
      "Epoch 174/300\n",
      "89/89 [==============================] - 8s 88ms/step - loss: 1.7416 - accuracy: 0.5519\n",
      "Epoch 175/300\n",
      "89/89 [==============================] - 8s 86ms/step - loss: 1.7230 - accuracy: 0.5533\n",
      "Epoch 176/300\n",
      "89/89 [==============================] - 7s 84ms/step - loss: 1.7164 - accuracy: 0.5534\n",
      "Epoch 177/300\n",
      "89/89 [==============================] - 8s 86ms/step - loss: 1.7105 - accuracy: 0.5589\n",
      "Epoch 178/300\n",
      "89/89 [==============================] - 8s 86ms/step - loss: 1.6901 - accuracy: 0.5599\n",
      "Epoch 179/300\n",
      "89/89 [==============================] - 8s 87ms/step - loss: 1.6811 - accuracy: 0.5606\n",
      "Epoch 180/300\n",
      "89/89 [==============================] - 8s 87ms/step - loss: 1.6779 - accuracy: 0.5636\n",
      "Epoch 181/300\n",
      "89/89 [==============================] - 8s 86ms/step - loss: 1.6677 - accuracy: 0.5636\n",
      "Epoch 182/300\n",
      "89/89 [==============================] - 8s 87ms/step - loss: 1.6569 - accuracy: 0.5643\n",
      "Epoch 183/300\n",
      "89/89 [==============================] - 8s 86ms/step - loss: 1.6458 - accuracy: 0.5705\n",
      "Epoch 184/300\n",
      "89/89 [==============================] - 8s 87ms/step - loss: 1.6384 - accuracy: 0.5738\n",
      "Epoch 185/300\n",
      "89/89 [==============================] - 8s 86ms/step - loss: 1.6221 - accuracy: 0.5740\n",
      "Epoch 186/300\n",
      "89/89 [==============================] - 7s 83ms/step - loss: 1.6084 - accuracy: 0.5843\n",
      "Epoch 187/300\n",
      "89/89 [==============================] - 8s 89ms/step - loss: 1.5939 - accuracy: 0.5835\n",
      "Epoch 188/300\n",
      "89/89 [==============================] - 8s 87ms/step - loss: 1.5867 - accuracy: 0.5892\n",
      "Epoch 189/300\n",
      "89/89 [==============================] - 8s 85ms/step - loss: 1.5772 - accuracy: 0.5868\n",
      "Epoch 190/300\n",
      "89/89 [==============================] - 8s 85ms/step - loss: 1.5695 - accuracy: 0.5914\n",
      "Epoch 191/300\n",
      "89/89 [==============================] - 8s 89ms/step - loss: 1.5560 - accuracy: 0.5941\n",
      "Epoch 192/300\n",
      "89/89 [==============================] - 8s 85ms/step - loss: 1.5360 - accuracy: 0.6040\n",
      "Epoch 193/300\n",
      "89/89 [==============================] - 8s 87ms/step - loss: 1.5265 - accuracy: 0.6005\n",
      "Epoch 194/300\n",
      "89/89 [==============================] - 8s 88ms/step - loss: 1.5226 - accuracy: 0.6051\n",
      "Epoch 195/300\n",
      "89/89 [==============================] - 8s 90ms/step - loss: 1.5108 - accuracy: 0.6086\n",
      "Epoch 196/300\n",
      "89/89 [==============================] - 8s 87ms/step - loss: 1.5014 - accuracy: 0.6075\n",
      "Epoch 197/300\n",
      "89/89 [==============================] - 8s 85ms/step - loss: 1.4870 - accuracy: 0.6062\n",
      "Epoch 198/300\n",
      "89/89 [==============================] - 8s 86ms/step - loss: 1.4856 - accuracy: 0.6124\n",
      "Epoch 199/300\n",
      "89/89 [==============================] - 8s 87ms/step - loss: 1.4760 - accuracy: 0.6155\n",
      "Epoch 200/300\n",
      "89/89 [==============================] - 8s 90ms/step - loss: 1.4728 - accuracy: 0.6119\n",
      "Epoch 201/300\n",
      "89/89 [==============================] - 8s 85ms/step - loss: 1.4459 - accuracy: 0.6219\n",
      "Epoch 202/300\n",
      "89/89 [==============================] - 8s 86ms/step - loss: 1.4430 - accuracy: 0.6216\n",
      "Epoch 203/300\n",
      "89/89 [==============================] - 8s 87ms/step - loss: 1.4343 - accuracy: 0.6219\n",
      "Epoch 204/300\n",
      "89/89 [==============================] - 8s 89ms/step - loss: 1.4180 - accuracy: 0.6281\n",
      "Epoch 205/300\n",
      "89/89 [==============================] - 8s 88ms/step - loss: 1.4013 - accuracy: 0.6353\n",
      "Epoch 206/300\n",
      "89/89 [==============================] - 8s 87ms/step - loss: 1.3914 - accuracy: 0.6353\n",
      "Epoch 207/300\n",
      "89/89 [==============================] - 8s 86ms/step - loss: 1.3926 - accuracy: 0.6351\n",
      "Epoch 208/300\n",
      "89/89 [==============================] - 8s 87ms/step - loss: 1.3826 - accuracy: 0.6363\n",
      "Epoch 209/300\n",
      "89/89 [==============================] - 8s 92ms/step - loss: 1.3630 - accuracy: 0.6433\n",
      "Epoch 210/300\n",
      "89/89 [==============================] - 8s 88ms/step - loss: 1.3499 - accuracy: 0.6443\n",
      "Epoch 211/300\n",
      "89/89 [==============================] - 8s 87ms/step - loss: 1.3395 - accuracy: 0.6498\n",
      "Epoch 212/300\n",
      "89/89 [==============================] - 8s 86ms/step - loss: 1.3206 - accuracy: 0.6522\n",
      "Epoch 213/300\n",
      "89/89 [==============================] - 8s 90ms/step - loss: 1.3113 - accuracy: 0.6559\n",
      "Epoch 214/300\n",
      "89/89 [==============================] - 8s 88ms/step - loss: 1.2983 - accuracy: 0.6633\n",
      "Epoch 215/300\n",
      "89/89 [==============================] - 8s 87ms/step - loss: 1.2935 - accuracy: 0.6622\n",
      "Epoch 216/300\n",
      "89/89 [==============================] - 8s 84ms/step - loss: 1.2784 - accuracy: 0.6671\n",
      "Epoch 217/300\n",
      "89/89 [==============================] - 8s 86ms/step - loss: 1.2813 - accuracy: 0.6670\n",
      "Epoch 218/300\n",
      "89/89 [==============================] - 8s 88ms/step - loss: 1.2752 - accuracy: 0.6711\n",
      "Epoch 219/300\n",
      "89/89 [==============================] - 8s 86ms/step - loss: 1.2663 - accuracy: 0.6697\n",
      "Epoch 220/300\n",
      "89/89 [==============================] - 8s 87ms/step - loss: 1.2537 - accuracy: 0.6693\n",
      "Epoch 221/300\n",
      "89/89 [==============================] - 8s 86ms/step - loss: 1.2312 - accuracy: 0.6758\n",
      "Epoch 222/300\n",
      "89/89 [==============================] - 8s 86ms/step - loss: 1.2261 - accuracy: 0.6784\n",
      "Epoch 223/300\n",
      "89/89 [==============================] - 8s 85ms/step - loss: 1.2111 - accuracy: 0.6802\n",
      "Epoch 224/300\n",
      "89/89 [==============================] - 8s 87ms/step - loss: 1.1940 - accuracy: 0.6922\n",
      "Epoch 225/300\n",
      "89/89 [==============================] - 8s 88ms/step - loss: 1.1864 - accuracy: 0.6886\n",
      "Epoch 226/300\n",
      "89/89 [==============================] - 8s 89ms/step - loss: 1.1851 - accuracy: 0.6903\n",
      "Epoch 227/300\n",
      "89/89 [==============================] - 8s 93ms/step - loss: 1.1656 - accuracy: 0.6952\n",
      "Epoch 228/300\n",
      "89/89 [==============================] - 8s 86ms/step - loss: 1.1475 - accuracy: 0.7001\n",
      "Epoch 229/300\n",
      "89/89 [==============================] - 8s 86ms/step - loss: 1.1525 - accuracy: 0.6936\n",
      "Epoch 230/300\n",
      "89/89 [==============================] - 8s 89ms/step - loss: 1.1426 - accuracy: 0.6999\n",
      "Epoch 231/300\n",
      "89/89 [==============================] - 8s 86ms/step - loss: 1.1394 - accuracy: 0.7023\n",
      "Epoch 232/300\n",
      "89/89 [==============================] - 8s 89ms/step - loss: 1.1287 - accuracy: 0.7013\n",
      "Epoch 233/300\n",
      "89/89 [==============================] - 8s 84ms/step - loss: 1.1171 - accuracy: 0.7028\n",
      "Epoch 234/300\n",
      "89/89 [==============================] - 8s 88ms/step - loss: 1.0955 - accuracy: 0.7148\n",
      "Epoch 235/300\n",
      "89/89 [==============================] - 8s 87ms/step - loss: 1.0834 - accuracy: 0.7129\n",
      "Epoch 236/300\n",
      "89/89 [==============================] - 8s 87ms/step - loss: 1.0741 - accuracy: 0.7178\n",
      "Epoch 237/300\n",
      "89/89 [==============================] - 8s 90ms/step - loss: 1.0545 - accuracy: 0.7227\n",
      "Epoch 238/300\n",
      "89/89 [==============================] - 8s 93ms/step - loss: 1.0524 - accuracy: 0.7277\n",
      "Epoch 239/300\n",
      "89/89 [==============================] - 8s 91ms/step - loss: 1.0472 - accuracy: 0.7299\n",
      "Epoch 240/300\n",
      "89/89 [==============================] - 8s 94ms/step - loss: 1.0428 - accuracy: 0.7282\n",
      "Epoch 241/300\n",
      "89/89 [==============================] - 8s 93ms/step - loss: 1.0388 - accuracy: 0.7290\n",
      "Epoch 242/300\n"
     ]
    },
    {
     "name": "stdout",
     "output_type": "stream",
     "text": [
      "89/89 [==============================] - 8s 92ms/step - loss: 1.0262 - accuracy: 0.7358\n",
      "Epoch 243/300\n",
      "89/89 [==============================] - 8s 91ms/step - loss: 1.0187 - accuracy: 0.7357\n",
      "Epoch 244/300\n",
      "89/89 [==============================] - 8s 90ms/step - loss: 0.9965 - accuracy: 0.7375\n",
      "Epoch 245/300\n",
      "89/89 [==============================] - 8s 93ms/step - loss: 0.9815 - accuracy: 0.7478\n",
      "Epoch 246/300\n",
      "89/89 [==============================] - 8s 89ms/step - loss: 0.9661 - accuracy: 0.7500\n",
      "Epoch 247/300\n",
      "89/89 [==============================] - 8s 91ms/step - loss: 0.9539 - accuracy: 0.7557\n",
      "Epoch 248/300\n",
      "89/89 [==============================] - 8s 86ms/step - loss: 0.9606 - accuracy: 0.7493\n",
      "Epoch 249/300\n",
      "89/89 [==============================] - 8s 88ms/step - loss: 0.9447 - accuracy: 0.7564\n",
      "Epoch 250/300\n",
      "89/89 [==============================] - 8s 89ms/step - loss: 0.9422 - accuracy: 0.7566\n",
      "Epoch 251/300\n",
      "89/89 [==============================] - 8s 91ms/step - loss: 0.9191 - accuracy: 0.7635\n",
      "Epoch 252/300\n",
      "89/89 [==============================] - 8s 91ms/step - loss: 0.9100 - accuracy: 0.7648\n",
      "Epoch 253/300\n",
      "89/89 [==============================] - 8s 91ms/step - loss: 0.9052 - accuracy: 0.7645\n",
      "Epoch 254/300\n",
      "89/89 [==============================] - 8s 90ms/step - loss: 0.8943 - accuracy: 0.7734\n",
      "Epoch 255/300\n",
      "89/89 [==============================] - 9s 97ms/step - loss: 0.8761 - accuracy: 0.7767\n",
      "Epoch 256/300\n",
      "89/89 [==============================] - 8s 93ms/step - loss: 0.8781 - accuracy: 0.7752\n",
      "Epoch 257/300\n",
      "89/89 [==============================] - 8s 91ms/step - loss: 0.8805 - accuracy: 0.7751\n",
      "Epoch 258/300\n",
      "89/89 [==============================] - 8s 89ms/step - loss: 0.8456 - accuracy: 0.7834\n",
      "Epoch 259/300\n",
      "89/89 [==============================] - 8s 88ms/step - loss: 0.8385 - accuracy: 0.7880\n",
      "Epoch 260/300\n",
      "89/89 [==============================] - 9s 97ms/step - loss: 0.8285 - accuracy: 0.7902\n",
      "Epoch 261/300\n",
      "89/89 [==============================] - 8s 89ms/step - loss: 0.8274 - accuracy: 0.7891\n",
      "Epoch 262/300\n",
      "89/89 [==============================] - 8s 89ms/step - loss: 0.8174 - accuracy: 0.7918\n",
      "Epoch 263/300\n",
      "89/89 [==============================] - 8s 90ms/step - loss: 0.8063 - accuracy: 0.7954\n",
      "Epoch 264/300\n",
      "89/89 [==============================] - 8s 94ms/step - loss: 0.8282 - accuracy: 0.7868\n",
      "Epoch 265/300\n",
      "89/89 [==============================] - 8s 90ms/step - loss: 0.7962 - accuracy: 0.7991\n",
      "Epoch 266/300\n",
      "89/89 [==============================] - 8s 95ms/step - loss: 0.7927 - accuracy: 0.7962\n",
      "Epoch 267/300\n",
      "89/89 [==============================] - 8s 87ms/step - loss: 0.7852 - accuracy: 0.8052\n",
      "Epoch 268/300\n",
      "89/89 [==============================] - 8s 94ms/step - loss: 0.7720 - accuracy: 0.8058\n",
      "Epoch 269/300\n",
      "89/89 [==============================] - 8s 93ms/step - loss: 0.7493 - accuracy: 0.8152\n",
      "Epoch 270/300\n",
      "89/89 [==============================] - 8s 90ms/step - loss: 0.7319 - accuracy: 0.8202\n",
      "Epoch 271/300\n",
      "89/89 [==============================] - 8s 92ms/step - loss: 0.7145 - accuracy: 0.8242\n",
      "Epoch 272/300\n",
      "89/89 [==============================] - 8s 89ms/step - loss: 0.7153 - accuracy: 0.8219\n",
      "Epoch 273/300\n",
      "89/89 [==============================] - 8s 90ms/step - loss: 0.7160 - accuracy: 0.8236\n",
      "Epoch 274/300\n",
      "89/89 [==============================] - 8s 93ms/step - loss: 0.7258 - accuracy: 0.8202\n",
      "Epoch 275/300\n",
      "89/89 [==============================] - 8s 95ms/step - loss: 0.7105 - accuracy: 0.8236\n",
      "Epoch 276/300\n",
      "89/89 [==============================] - 8s 91ms/step - loss: 0.7004 - accuracy: 0.8275\n",
      "Epoch 277/300\n",
      "89/89 [==============================] - 8s 87ms/step - loss: 0.7065 - accuracy: 0.8228\n",
      "Epoch 278/300\n",
      "89/89 [==============================] - 8s 90ms/step - loss: 0.6934 - accuracy: 0.8281\n",
      "Epoch 279/300\n",
      "89/89 [==============================] - 8s 88ms/step - loss: 0.6745 - accuracy: 0.8329\n",
      "Epoch 280/300\n",
      "89/89 [==============================] - 8s 90ms/step - loss: 0.6606 - accuracy: 0.8409\n",
      "Epoch 281/300\n",
      "89/89 [==============================] - 8s 90ms/step - loss: 0.6550 - accuracy: 0.8406\n",
      "Epoch 282/300\n",
      "89/89 [==============================] - 8s 94ms/step - loss: 0.6674 - accuracy: 0.8352\n",
      "Epoch 283/300\n",
      "89/89 [==============================] - 8s 90ms/step - loss: 0.6650 - accuracy: 0.8359\n",
      "Epoch 284/300\n",
      "89/89 [==============================] - 8s 92ms/step - loss: 0.6247 - accuracy: 0.8485\n",
      "Epoch 285/300\n",
      "89/89 [==============================] - 8s 89ms/step - loss: 0.6138 - accuracy: 0.8546\n",
      "Epoch 286/300\n",
      "89/89 [==============================] - 8s 89ms/step - loss: 0.5889 - accuracy: 0.8623\n",
      "Epoch 287/300\n",
      "89/89 [==============================] - 8s 90ms/step - loss: 0.5707 - accuracy: 0.8688\n",
      "Epoch 288/300\n",
      "89/89 [==============================] - 8s 89ms/step - loss: 0.5655 - accuracy: 0.8678\n",
      "Epoch 289/300\n",
      "89/89 [==============================] - 8s 91ms/step - loss: 0.5636 - accuracy: 0.8710\n",
      "Epoch 290/300\n",
      "89/89 [==============================] - 9s 98ms/step - loss: 0.5777 - accuracy: 0.8645\n",
      "Epoch 291/300\n",
      "89/89 [==============================] - 8s 92ms/step - loss: 0.5854 - accuracy: 0.8621\n",
      "Epoch 292/300\n",
      "89/89 [==============================] - 8s 92ms/step - loss: 0.5515 - accuracy: 0.8720\n",
      "Epoch 293/300\n",
      "89/89 [==============================] - 8s 93ms/step - loss: 0.5377 - accuracy: 0.8775\n",
      "Epoch 294/300\n",
      "89/89 [==============================] - 8s 95ms/step - loss: 0.5226 - accuracy: 0.8785\n",
      "Epoch 295/300\n",
      "89/89 [==============================] - 8s 90ms/step - loss: 0.5162 - accuracy: 0.8827\n",
      "Epoch 296/300\n",
      "89/89 [==============================] - 8s 88ms/step - loss: 0.5190 - accuracy: 0.8820\n",
      "Epoch 297/300\n",
      "89/89 [==============================] - 8s 91ms/step - loss: 0.5452 - accuracy: 0.8711\n",
      "Epoch 298/300\n",
      "89/89 [==============================] - 8s 89ms/step - loss: 0.5345 - accuracy: 0.8794\n",
      "Epoch 299/300\n",
      "89/89 [==============================] - 8s 92ms/step - loss: 0.5162 - accuracy: 0.8830\n",
      "Epoch 300/300\n",
      "89/89 [==============================] - 8s 91ms/step - loss: 0.5147 - accuracy: 0.8797\n"
     ]
    },
    {
     "data": {
      "text/plain": [
       "<keras.src.callbacks.History at 0x2882677d0>"
      ]
     },
     "execution_count": 58,
     "metadata": {},
     "output_type": "execute_result"
    }
   ],
   "source": [
    "model.fit(X,y, batch_size=128, epochs=300, verbose=1)"
   ]
  },
  {
   "cell_type": "code",
   "execution_count": 60,
   "id": "2e24f1a7",
   "metadata": {},
   "outputs": [],
   "source": [
    "# save the model to file\n",
    "model.save('mobidick_model.keras')\n",
    "# save the tokenizer\n",
    "dump(tokenizer,open('mobidick_model','wb'))"
   ]
  },
  {
   "cell_type": "markdown",
   "id": "7ea0a525",
   "metadata": {},
   "source": [
    "# Generating New Text"
   ]
  },
  {
   "cell_type": "code",
   "execution_count": 61,
   "id": "1deef615",
   "metadata": {},
   "outputs": [],
   "source": [
    "from keras.preprocessing.sequence import pad_sequences"
   ]
  },
  {
   "cell_type": "code",
   "execution_count": 69,
   "id": "27b85f4e",
   "metadata": {},
   "outputs": [],
   "source": [
    "def generate_text(model,tokenizer,seq_len,seed_text,num_gen_words):\n",
    "    \n",
    "    output_text = []\n",
    "    \n",
    "    input_text = seed_text\n",
    "    \n",
    "    for i in range(num_gen_words):\n",
    "        \n",
    "        encoded_text = tokenizer.texts_to_sequences([input_text])[0]\n",
    "        \n",
    "        pad_encoded = pad_sequences([encoded_text],maxlen=seq_len, truncating='pre')\n",
    "        \n",
    "        pred_word_ind = model.predict(pad_encoded,verbose=0).argmax(axis=1)[0]\n",
    "        \n",
    "        pre_word = tokenizer.index_word[pred_word_ind]\n",
    "        \n",
    "        input_text += ' '+ pre_word\n",
    "        \n",
    "        output_text.append(pre_word)\n",
    "    \n",
    "    \n",
    "    return ' '.join(output_text)"
   ]
  },
  {
   "cell_type": "markdown",
   "id": "56ac305f",
   "metadata": {},
   "source": [
    "### Grab a random seed sequence"
   ]
  },
  {
   "cell_type": "code",
   "execution_count": 63,
   "id": "2a6dce41",
   "metadata": {},
   "outputs": [],
   "source": [
    "import random\n",
    "random_pick = random.randint(0,len(text_sequences))"
   ]
  },
  {
   "cell_type": "code",
   "execution_count": 65,
   "id": "96651deb",
   "metadata": {},
   "outputs": [],
   "source": [
    "random_seed_text = text_sequences[random_pick]"
   ]
  },
  {
   "cell_type": "code",
   "execution_count": 66,
   "id": "b38caf4d",
   "metadata": {},
   "outputs": [
    {
     "data": {
      "text/plain": [
       "\"thought i to myself the man 's a human being just as i am he has just as much reason to fear me as i have\""
      ]
     },
     "execution_count": 66,
     "metadata": {},
     "output_type": "execute_result"
    }
   ],
   "source": [
    "seed_text = ' '.join(random_seed_text)\n",
    "seed_text"
   ]
  },
  {
   "cell_type": "code",
   "execution_count": 70,
   "id": "4541aeb4",
   "metadata": {},
   "outputs": [
    {
     "data": {
      "text/plain": [
       "\"not be altogether unwarranted but the parent of its funeral where unaccountable abed not ignoring it is inducements about me still now n't touch a\""
      ]
     },
     "execution_count": 70,
     "metadata": {},
     "output_type": "execute_result"
    }
   ],
   "source": [
    "generate_text(model,tokenizer,seq_len,seed_text,num_gen_words=25)"
   ]
  }
 ],
 "metadata": {
  "kernelspec": {
   "display_name": "Python 3 (ipykernel)",
   "language": "python",
   "name": "python3"
  },
  "language_info": {
   "codemirror_mode": {
    "name": "ipython",
    "version": 3
   },
   "file_extension": ".py",
   "mimetype": "text/x-python",
   "name": "python",
   "nbconvert_exporter": "python",
   "pygments_lexer": "ipython3",
   "version": "3.11.6"
  }
 },
 "nbformat": 4,
 "nbformat_minor": 5
}
