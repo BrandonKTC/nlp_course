{
 "cells": [
  {
   "cell_type": "markdown",
   "id": "881f2405",
   "metadata": {},
   "source": [
    "# Stop Words\n",
    "Words like \"a\" and \"the\" appear so frequently that they don't require tagging as thoroughly as nouns, verbs and modifiers. We call these *stop words*, and they can be filtered from the text to be processed. spaCy holds a built-in list of some 305 English stop words."
   ]
  },
  {
   "cell_type": "code",
   "execution_count": 1,
   "id": "9e16a2d3",
   "metadata": {},
   "outputs": [],
   "source": [
    "# Perform standard imports:\n",
    "import spacy\n",
    "nlp = spacy.load('en_core_web_sm')"
   ]
  },
  {
   "cell_type": "code",
   "execution_count": 2,
   "id": "5e2cc2e0",
   "metadata": {},
   "outputs": [
    {
     "name": "stdout",
     "output_type": "stream",
     "text": [
      "{'get', 'onto', 'meanwhile', 'anything', 'beside', 'yet', 'again', 'all', 'why', 'whatever', 'take', 'their', 'both', 'almost', 'neither', 'then', 'first', 'part', 'full', 'when', 'it', 'the', 'only', 'here', 'unless', 'become', '‘d', 'whereupon', 'via', 'whether', 'not', 'very', 'can', 'around', 'beyond', 'by', 'since', 'will', 'everything', 'now', 'same', 'therefore', 'did', 'your', 'forty', 'thus', 'more', 'those', 'former', 'might', 'nine', 'whereby', 'no', 'has', 'often', 'an', 'there', 'hereupon', 'were', 'bottom', 'how', 'two', 'fifty', 'anyhow', 'its', 'others', 'own', 'however', 'seeming', 'into', 'latterly', 'that', 'herself', 'every', 'to', 'could', \"'s\", 'was', 'whereas', '’d', 'anywhere', 'are', 'eight', 'sometime', \"'m\", 'even', 'as', 'empty', 'enough', 'whenever', 'ours', 'and', 'my', 'yourselves', 'among', \"'ve\", 'what', 'but', 'or', 'any', 'perhaps', \"'re\", 'above', 'most', '’s', 'behind', 'made', 'her', 'few', 'for', 'must', 'everywhere', 'upon', 'twelve', 'name', 'been', 'thereupon', 'except', 'each', '‘ve', 'make', 'moreover', '‘m', 'nothing', 'hundred', 'afterwards', 'me', 'least', 'under', 'besides', 'becoming', 'otherwise', 'his', \"'d\", 're', 'side', 'regarding', 'where', 'have', 'amongst', 'say', 'less', 'ever', 'somewhere', 'elsewhere', 'along', 'out', 'do', 'of', 'below', 'whence', 'using', 'ca', 'sixty', 'alone', 'through', 'just', 'if', 'would', '‘s', 'had', 'hereafter', 'whole', 'also', 'over', 'much', 'you', 'against', 'give', 'therein', 'once', 'nobody', 'various', 'always', 'while', 'seemed', 'whither', 'namely', 'whom', 'themselves', 'sometimes', 'together', 'still', 'thru', 'top', 'latter', 'used', 'i', 'our', 'else', '‘ll', 'well', 'became', 'mine', 'due', 'last', 'with', 'before', 'than', 'nevertheless', 'six', 'rather', 'something', 'down', 'be', '’ve', 'hence', 'who', 'does', 'many', 'yours', 'n‘t', 'thereafter', 'doing', 'until', 'indeed', 'ten', 'other', 'should', 'somehow', 'twenty', '’m', 'between', 'because', 'am', 'thereby', 'further', 'several', 'mostly', 'anyone', 'so', 'someone', 'a', 'being', 'too', 'hereby', 'beforehand', 'on', \"n't\", 'she', 'three', 'at', 'see', 'ourselves', 'without', 'fifteen', 'becomes', 'off', 'serious', 'we', 'though', 'another', 'call', 'nor', '’re', 'hers', 'whereafter', 'five', 'towards', 'never', 'during', 'done', 'may', 'these', 'thence', 'put', '‘re', 'show', 'move', 'front', 'back', 'which', 'none', 'nowhere', 'third', 'seem', 'go', 'he', 'cannot', 'really', 'everyone', 'itself', 'whose', 'four', 'after', 'from', 'in', 'some', 'is', 'noone', 'next', 'yourself', 'one', 'himself', 'either', 'throughout', \"'ll\", '’ll', 'amount', 'per', 'already', 'this', 'about', 'whoever', 'seems', 'they', 'across', 'anyway', 'please', 'toward', 'quite', 'him', 'such', 'wherein', 'myself', 'eleven', 'keep', 'up', 'us', 'them', 'n’t', 'herein', 'formerly', 'within', 'although', 'wherever'}\n"
     ]
    }
   ],
   "source": [
    "# Print the set of spaCy's default stop words (remember that sets are unordered):\n",
    "print(nlp.Defaults.stop_words)"
   ]
  },
  {
   "cell_type": "code",
   "execution_count": 3,
   "id": "035910f7",
   "metadata": {},
   "outputs": [
    {
     "data": {
      "text/plain": [
       "326"
      ]
     },
     "execution_count": 3,
     "metadata": {},
     "output_type": "execute_result"
    }
   ],
   "source": [
    "len(nlp.Defaults.stop_words)"
   ]
  },
  {
   "cell_type": "markdown",
   "id": "98b0e2f5",
   "metadata": {},
   "source": [
    "## To see if a word is a stop word"
   ]
  },
  {
   "cell_type": "code",
   "execution_count": 4,
   "id": "d2a8bb1c",
   "metadata": {},
   "outputs": [
    {
     "data": {
      "text/plain": [
       "True"
      ]
     },
     "execution_count": 4,
     "metadata": {},
     "output_type": "execute_result"
    }
   ],
   "source": [
    "nlp.vocab['is'].is_stop"
   ]
  },
  {
   "cell_type": "code",
   "execution_count": 5,
   "id": "f910c142",
   "metadata": {},
   "outputs": [
    {
     "data": {
      "text/plain": [
       "False"
      ]
     },
     "execution_count": 5,
     "metadata": {},
     "output_type": "execute_result"
    }
   ],
   "source": [
    "nlp.vocab['mystery'].is_stop"
   ]
  },
  {
   "cell_type": "markdown",
   "id": "58d217e6",
   "metadata": {},
   "source": [
    "## To add a stop word\n",
    "There may be times when you wish to add a stop word to the default set. Perhaps you decide that `'btw'` (common shorthand for \"by the way\") should be considered a stop word."
   ]
  },
  {
   "cell_type": "code",
   "execution_count": 6,
   "id": "ca1d8c4e",
   "metadata": {},
   "outputs": [],
   "source": [
    "nlp.Defaults.stop_words.add('btw')"
   ]
  },
  {
   "cell_type": "code",
   "execution_count": 7,
   "id": "123e9b3a",
   "metadata": {},
   "outputs": [],
   "source": [
    "nlp.vocab['btw'].is_stop = True"
   ]
  },
  {
   "cell_type": "code",
   "execution_count": 8,
   "id": "6059bd46",
   "metadata": {},
   "outputs": [
    {
     "data": {
      "text/plain": [
       "327"
      ]
     },
     "execution_count": 8,
     "metadata": {},
     "output_type": "execute_result"
    }
   ],
   "source": [
    "len(nlp.Defaults.stop_words)"
   ]
  },
  {
   "cell_type": "markdown",
   "id": "613ad6e7",
   "metadata": {},
   "source": [
    "<font color=green>When adding stop words, always use lowercase. Lexemes are converted to lowercase before being added to **vocab**.</font>"
   ]
  },
  {
   "cell_type": "markdown",
   "id": "3f6ba6ff",
   "metadata": {},
   "source": [
    "## To remove a stop word\n",
    "Alternatively, you may decide that `'beyond'` should not be considered a stop word."
   ]
  },
  {
   "cell_type": "code",
   "execution_count": 9,
   "id": "2f9d0ae5",
   "metadata": {},
   "outputs": [],
   "source": [
    "nlp.Defaults.stop_words.remove('btw')"
   ]
  },
  {
   "cell_type": "code",
   "execution_count": 10,
   "id": "317c1091",
   "metadata": {},
   "outputs": [],
   "source": [
    "nlp.vocab['btw'].is_stop = False"
   ]
  }
 ],
 "metadata": {
  "kernelspec": {
   "display_name": "Python 3 (ipykernel)",
   "language": "python",
   "name": "python3"
  },
  "language_info": {
   "codemirror_mode": {
    "name": "ipython",
    "version": 3
   },
   "file_extension": ".py",
   "mimetype": "text/x-python",
   "name": "python",
   "nbconvert_exporter": "python",
   "pygments_lexer": "ipython3",
   "version": "3.11.6"
  }
 },
 "nbformat": 4,
 "nbformat_minor": 5
}
