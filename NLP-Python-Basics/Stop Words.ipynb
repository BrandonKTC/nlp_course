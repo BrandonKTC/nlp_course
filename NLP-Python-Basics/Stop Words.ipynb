{
 "cells": [
  {
   "cell_type": "code",
   "execution_count": 1,
   "id": "7bffacdf",
   "metadata": {},
   "outputs": [],
   "source": [
    "import spacy"
   ]
  },
  {
   "cell_type": "code",
   "execution_count": 2,
   "id": "2244d74a",
   "metadata": {},
   "outputs": [],
   "source": [
    "nlp = spacy.load('en_core_web_sm')"
   ]
  },
  {
   "cell_type": "code",
   "execution_count": 3,
   "id": "ddd9a307",
   "metadata": {},
   "outputs": [
    {
     "name": "stdout",
     "output_type": "stream",
     "text": [
      "{'two', 'please', 'due', 'many', 'somehow', 'are', 'a', 'beyond', 'fifteen', 'twenty', 'nor', 'after', 'it', 'down', 'well', 'even', 'always', 'how', 'this', 'hereafter', 'thereby', 'thereafter', 'one', 'by', 'hereupon', 'thereupon', 'side', 'seem', 'formerly', 'very', 'will', 'did', 'he', 'each', 'of', 'our', 'again', 'at', 'was', 'much', 'anything', 'three', 'us', 'as', 'ten', 'whether', 'here', 'none', 'does', 'has', 'made', 'nowhere', 'few', 'either', 'seeming', 'nothing', 'thru', 'to', 'wherever', 'out', 'beforehand', 'fifty', 'himself', 'all', 'often', 'somewhere', 'across', 'been', 'latter', 'together', 'against', 'whatever', 'thence', 'may', 'therefore', 'herein', 'used', 'neither', 'some', 'i', 'becomes', 'however', 'another', 'along', 'below', 'empty', 'everyone', 'nevertheless', 'every', 'top', 'up', 'various', 'afterwards', 'for', 'other', 'with', 'might', 'although', 'amount', 'anywhere', 'can', 'latterly', 'someone', 'among', 'unless', 'using', 'about', 'really', 'not', 'must', 'becoming', 'became', 'while', 'they', 'both', 'itself', 'the', 'done', 'who', 'into', 'around', 'during', 'least', 'most', 'now', 'what', 'sometime', 'without', 'themselves', 'yourself', 'indeed', 'cannot', 're', 'seems', 'throughout', 'being', 'hundred', 'give', 'any', 'whenever', 'whither', 'above', 'me', 'sometimes', 'would', 'then', 'go', 'or', 'no', 'per', 'amongst', 'ever', 'just', 'several', 'part', 'whom', 'last', 'whereby', 'anyway', 'elsewhere', 'say', 'third', 'name', 'see', 'via', 'since', 'in', 'own', 'get', 'her', 'such', 'under', 'besides', 'whose', 'also', 'anyone', 'behind', 'eight', 'sixty', 'call', 'until', 'move', 'first', 'anyhow', 'from', 'hers', 'moreover', 'therein', 'twelve', 'myself', 'within', 'else', 'whoever', 'seemed', 'everywhere', 'meanwhile', 'enough', 'mine', 'my', 'nine', 'thus', 'an', 'toward', 'she', 'nobody', 'you', 'former', 'back', 'ourselves', 'more', 'serious', 'doing', 'so', 'why', 'and', 'could', 'over', 'than', 'whereafter', 'almost', 'except', 'have', 'but', 'hence', 'too', 'whereas', 'noone', 'regarding', 'front', 'hereby', 'which', 'whole', 'herself', 'alone', 'towards', 'show', 'four', 'less', 'be', 'forty', 'before', 'were', 'ours', 'them', 'never', 'something', 'these', 'yourselves', 'already', 'their', 'where', 'mostly', 'onto', 'next', 'off', 'yours', 'beside', 'only', 'quite', 'six', 'make', 'that', 'those', 'your', 'if', 'others', 'keep', 'him', 'namely', 'otherwise', 'same', 'through', 'its', 'when', 'there', 'on', 'eleven', 'perhaps', 'wherein', 'still', 'though', 'whence', 'yet', 'we', 'put', 'once', 'had', 'become', 'upon', 'five', 'full', 'ca', 'bottom', 'is', 'because', 'should', 'everything', 'do', 'his', 'whereupon', 'between', 'further', 'rather', 'am', 'take'}\n"
     ]
    }
   ],
   "source": [
    "print(nlp.Defaults.stop_words)"
   ]
  },
  {
   "cell_type": "code",
   "execution_count": 4,
   "id": "f0809653",
   "metadata": {},
   "outputs": [
    {
     "data": {
      "text/plain": [
       "305"
      ]
     },
     "execution_count": 4,
     "metadata": {},
     "output_type": "execute_result"
    }
   ],
   "source": [
    "len(nlp.Defaults.stop_words)"
   ]
  },
  {
   "cell_type": "code",
   "execution_count": 6,
   "id": "fd128436",
   "metadata": {},
   "outputs": [
    {
     "data": {
      "text/plain": [
       "True"
      ]
     },
     "execution_count": 6,
     "metadata": {},
     "output_type": "execute_result"
    }
   ],
   "source": [
    "nlp.vocab['is'].is_stop # verify if specify word is a stop_word"
   ]
  },
  {
   "cell_type": "markdown",
   "id": "5273b739",
   "metadata": {},
   "source": [
    "## Adding a stop_words"
   ]
  },
  {
   "cell_type": "code",
   "execution_count": 7,
   "id": "fa73b9b1",
   "metadata": {},
   "outputs": [],
   "source": [
    "nlp.Defaults.stop_words.add('btw')"
   ]
  },
  {
   "cell_type": "code",
   "execution_count": 8,
   "id": "e2df4c0e",
   "metadata": {},
   "outputs": [],
   "source": [
    "nlp.vocab['btw'].is_stop = True"
   ]
  },
  {
   "cell_type": "code",
   "execution_count": 9,
   "id": "887873f9",
   "metadata": {},
   "outputs": [
    {
     "data": {
      "text/plain": [
       "True"
      ]
     },
     "execution_count": 9,
     "metadata": {},
     "output_type": "execute_result"
    }
   ],
   "source": [
    "nlp.vocab['btw'].is_stop"
   ]
  },
  {
   "cell_type": "markdown",
   "id": "3231f5cb",
   "metadata": {},
   "source": [
    "## Removing a stop_words"
   ]
  },
  {
   "cell_type": "code",
   "execution_count": 10,
   "id": "a6738dc4",
   "metadata": {},
   "outputs": [],
   "source": [
    "nlp.Defaults.stop_words.remove('beyond')"
   ]
  },
  {
   "cell_type": "code",
   "execution_count": 12,
   "id": "0d758de3",
   "metadata": {},
   "outputs": [],
   "source": [
    "nlp.vocab['beyond'].is_stop = False"
   ]
  },
  {
   "cell_type": "code",
   "execution_count": 13,
   "id": "273963d9",
   "metadata": {},
   "outputs": [
    {
     "data": {
      "text/plain": [
       "False"
      ]
     },
     "execution_count": 13,
     "metadata": {},
     "output_type": "execute_result"
    }
   ],
   "source": [
    "nlp.vocab['beyond'].is_stop"
   ]
  }
 ],
 "metadata": {
  "kernelspec": {
   "display_name": "Python 3 (ipykernel)",
   "language": "python",
   "name": "python3"
  },
  "language_info": {
   "codemirror_mode": {
    "name": "ipython",
    "version": 3
   },
   "file_extension": ".py",
   "mimetype": "text/x-python",
   "name": "python",
   "nbconvert_exporter": "python",
   "pygments_lexer": "ipython3",
   "version": "3.7.16"
  }
 },
 "nbformat": 4,
 "nbformat_minor": 5
}
